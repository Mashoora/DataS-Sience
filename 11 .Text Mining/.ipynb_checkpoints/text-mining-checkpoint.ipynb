{
 "cells": [
  {
   "cell_type": "code",
   "execution_count": 1,
   "id": "ca46cdf5",
   "metadata": {
    "_cell_guid": "b1076dfc-b9ad-4769-8c92-a6c4dae69d19",
    "_uuid": "8f2839f25d086af736a60e9eeb907d3b93b6e0e5",
    "execution": {
     "iopub.execute_input": "2023-02-07T04:16:59.967524Z",
     "iopub.status.busy": "2023-02-07T04:16:59.966926Z",
     "iopub.status.idle": "2023-02-07T04:16:59.995953Z",
     "shell.execute_reply": "2023-02-07T04:16:59.994883Z"
    },
    "papermill": {
     "duration": 0.05038,
     "end_time": "2023-02-07T04:16:59.998947",
     "exception": false,
     "start_time": "2023-02-07T04:16:59.948567",
     "status": "completed"
    },
    "tags": []
   },
   "outputs": [
    {
     "name": "stdout",
     "output_type": "stream",
     "text": [
      "/kaggle/input/elon-musk-1/Elon_musk.csv\n"
     ]
    }
   ],
   "source": [
    "# This Python 3 environment comes with many helpful analytics libraries installed\n",
    "# It is defined by the kaggle/python Docker image: https://github.com/kaggle/docker-python\n",
    "# For example, here's several helpful packages to load\n",
    "\n",
    "import numpy as np # linear algebra\n",
    "import pandas as pd # data processing, CSV file I/O (e.g. pd.read_csv)\n",
    "\n",
    "# Input data files are available in the read-only \"../input/\" directory\n",
    "# For example, running this (by clicking run or pressing Shift+Enter) will list all files under the input directory\n",
    "\n",
    "import os\n",
    "for dirname, _, filenames in os.walk('/kaggle/input'):\n",
    "    for filename in filenames:\n",
    "        print(os.path.join(dirname, filename))\n",
    "\n",
    "# You can write up to 20GB to the current directory (/kaggle/working/) that gets preserved as output when you create a version using \"Save & Run All\" \n",
    "# You can also write temporary files to /kaggle/temp/, but they won't be saved outside of the current session"
   ]
  },
  {
   "cell_type": "code",
   "execution_count": 2,
   "id": "198b7d8f",
   "metadata": {
    "execution": {
     "iopub.execute_input": "2023-02-07T04:17:00.024098Z",
     "iopub.status.busy": "2023-02-07T04:17:00.023230Z",
     "iopub.status.idle": "2023-02-07T04:17:16.506920Z",
     "shell.execute_reply": "2023-02-07T04:17:16.505080Z"
    },
    "papermill": {
     "duration": 16.49929,
     "end_time": "2023-02-07T04:17:16.509670",
     "exception": false,
     "start_time": "2023-02-07T04:17:00.010380",
     "status": "completed"
    },
    "tags": []
   },
   "outputs": [
    {
     "name": "stdout",
     "output_type": "stream",
     "text": [
      "Collecting pyforest\r\n",
      "  Downloading pyforest-1.1.0.tar.gz (15 kB)\r\n",
      "  Preparing metadata (setup.py) ... \u001b[?25l-\b \bdone\r\n",
      "\u001b[?25hBuilding wheels for collected packages: pyforest\r\n",
      "  Building wheel for pyforest (setup.py) ... \u001b[?25l-\b \b\\\b \bdone\r\n",
      "\u001b[?25h  Created wheel for pyforest: filename=pyforest-1.1.0-py2.py3-none-any.whl size=14607 sha256=79a520cda2d83e32656037ae3fa5563e1641d7afb2d7a62383f48e412f942d69\r\n",
      "  Stored in directory: /root/.cache/pip/wheels/61/1c/da/48e6c884142d485475d852d69d20a096aba5beceb338822893\r\n",
      "Successfully built pyforest\r\n",
      "Installing collected packages: pyforest\r\n",
      "Successfully installed pyforest-1.1.0\r\n",
      "\u001b[33mWARNING: Running pip as the 'root' user can result in broken permissions and conflicting behaviour with the system package manager. It is recommended to use a virtual environment instead: https://pip.pypa.io/warnings/venv\u001b[0m\u001b[33m\r\n",
      "\u001b[0mNote: you may need to restart the kernel to use updated packages.\n"
     ]
    }
   ],
   "source": [
    "pip install pyforest "
   ]
  },
  {
   "cell_type": "code",
   "execution_count": 3,
   "id": "dd09641f",
   "metadata": {
    "execution": {
     "iopub.execute_input": "2023-02-07T04:17:16.537035Z",
     "iopub.status.busy": "2023-02-07T04:17:16.536473Z",
     "iopub.status.idle": "2023-02-07T04:17:16.866682Z",
     "shell.execute_reply": "2023-02-07T04:17:16.865232Z"
    },
    "papermill": {
     "duration": 0.34792,
     "end_time": "2023-02-07T04:17:16.869830",
     "exception": false,
     "start_time": "2023-02-07T04:17:16.521910",
     "status": "completed"
    },
    "tags": []
   },
   "outputs": [],
   "source": [
    "import pyforest"
   ]
  },
  {
   "cell_type": "code",
   "execution_count": 4,
   "id": "65ce625e",
   "metadata": {
    "execution": {
     "iopub.execute_input": "2023-02-07T04:17:16.899170Z",
     "iopub.status.busy": "2023-02-07T04:17:16.897841Z",
     "iopub.status.idle": "2023-02-07T04:17:16.903598Z",
     "shell.execute_reply": "2023-02-07T04:17:16.902497Z"
    },
    "papermill": {
     "duration": 0.021652,
     "end_time": "2023-02-07T04:17:16.906221",
     "exception": false,
     "start_time": "2023-02-07T04:17:16.884569",
     "status": "completed"
    },
    "tags": []
   },
   "outputs": [],
   "source": [
    "import warnings\n",
    "warnings.filterwarnings(\"ignore\")"
   ]
  },
  {
   "cell_type": "code",
   "execution_count": 5,
   "id": "db402d9a",
   "metadata": {
    "execution": {
     "iopub.execute_input": "2023-02-07T04:17:16.930777Z",
     "iopub.status.busy": "2023-02-07T04:17:16.930368Z",
     "iopub.status.idle": "2023-02-07T04:17:16.986707Z",
     "shell.execute_reply": "2023-02-07T04:17:16.985447Z"
    },
    "papermill": {
     "duration": 0.072015,
     "end_time": "2023-02-07T04:17:16.989784",
     "exception": false,
     "start_time": "2023-02-07T04:17:16.917769",
     "status": "completed"
    },
    "tags": []
   },
   "outputs": [
    {
     "data": {
      "text/html": [
       "<div>\n",
       "<style scoped>\n",
       "    .dataframe tbody tr th:only-of-type {\n",
       "        vertical-align: middle;\n",
       "    }\n",
       "\n",
       "    .dataframe tbody tr th {\n",
       "        vertical-align: top;\n",
       "    }\n",
       "\n",
       "    .dataframe thead th {\n",
       "        text-align: right;\n",
       "    }\n",
       "</style>\n",
       "<table border=\"1\" class=\"dataframe\">\n",
       "  <thead>\n",
       "    <tr style=\"text-align: right;\">\n",
       "      <th></th>\n",
       "      <th>Tweets</th>\n",
       "    </tr>\n",
       "  </thead>\n",
       "  <tbody>\n",
       "    <tr>\n",
       "      <th>0</th>\n",
       "      <td>@kunalb11 Im an alien</td>\n",
       "    </tr>\n",
       "    <tr>\n",
       "      <th>1</th>\n",
       "      <td>@ID_AA_Carmack Ray tracing on Cyberpunk with H...</td>\n",
       "    </tr>\n",
       "    <tr>\n",
       "      <th>2</th>\n",
       "      <td>@joerogan @Spotify Great interview!</td>\n",
       "    </tr>\n",
       "    <tr>\n",
       "      <th>3</th>\n",
       "      <td>@gtera27 Doge is underestimated</td>\n",
       "    </tr>\n",
       "    <tr>\n",
       "      <th>4</th>\n",
       "      <td>@teslacn Congratulations Tesla China for amazi...</td>\n",
       "    </tr>\n",
       "    <tr>\n",
       "      <th>...</th>\n",
       "      <td>...</td>\n",
       "    </tr>\n",
       "    <tr>\n",
       "      <th>1994</th>\n",
       "      <td>@flcnhvy True, it sounds so surreal, but the n...</td>\n",
       "    </tr>\n",
       "    <tr>\n",
       "      <th>1995</th>\n",
       "      <td>@PPathole Make sure to read ur terms &amp;amp; con...</td>\n",
       "    </tr>\n",
       "    <tr>\n",
       "      <th>1996</th>\n",
       "      <td>@TeslaGong @PPathole Samwise Gamgee</td>\n",
       "    </tr>\n",
       "    <tr>\n",
       "      <th>1997</th>\n",
       "      <td>@PPathole Altho Dumb and Dumber is &lt;U+0001F525...</td>\n",
       "    </tr>\n",
       "    <tr>\n",
       "      <th>1998</th>\n",
       "      <td>Progress update August 28</td>\n",
       "    </tr>\n",
       "  </tbody>\n",
       "</table>\n",
       "<p>1999 rows × 1 columns</p>\n",
       "</div>"
      ],
      "text/plain": [
       "                                                 Tweets\n",
       "0                                @kunalb11 Im an alien\n",
       "1     @ID_AA_Carmack Ray tracing on Cyberpunk with H...\n",
       "2                   @joerogan @Spotify Great interview!\n",
       "3                       @gtera27 Doge is underestimated\n",
       "4     @teslacn Congratulations Tesla China for amazi...\n",
       "...                                                 ...\n",
       "1994  @flcnhvy True, it sounds so surreal, but the n...\n",
       "1995  @PPathole Make sure to read ur terms &amp; con...\n",
       "1996                @TeslaGong @PPathole Samwise Gamgee\n",
       "1997  @PPathole Altho Dumb and Dumber is <U+0001F525...\n",
       "1998                          Progress update August 28\n",
       "\n",
       "[1999 rows x 1 columns]"
      ]
     },
     "execution_count": 5,
     "metadata": {},
     "output_type": "execute_result"
    }
   ],
   "source": [
    "# load the dataset\n",
    "tweets=pd.read_csv('../input/elon-musk-1/Elon_musk.csv',encoding='Latin-1')\n",
    "tweets.drop(['Unnamed: 0'],inplace=True,axis=1)\n",
    "tweets.rename({'Text':'Tweets'},axis=1,inplace=True)\n",
    "tweets"
   ]
  },
  {
   "cell_type": "code",
   "execution_count": 6,
   "id": "e508e5b9",
   "metadata": {
    "execution": {
     "iopub.execute_input": "2023-02-07T04:17:17.016710Z",
     "iopub.status.busy": "2023-02-07T04:17:17.016286Z",
     "iopub.status.idle": "2023-02-07T04:17:17.022189Z",
     "shell.execute_reply": "2023-02-07T04:17:17.020641Z"
    },
    "papermill": {
     "duration": 0.022964,
     "end_time": "2023-02-07T04:17:17.024604",
     "exception": false,
     "start_time": "2023-02-07T04:17:17.001640",
     "status": "completed"
    },
    "tags": []
   },
   "outputs": [],
   "source": [
    "## Data Exploration"
   ]
  },
  {
   "cell_type": "code",
   "execution_count": 7,
   "id": "dff63d13",
   "metadata": {
    "execution": {
     "iopub.execute_input": "2023-02-07T04:17:17.050168Z",
     "iopub.status.busy": "2023-02-07T04:17:17.049629Z",
     "iopub.status.idle": "2023-02-07T04:17:17.068871Z",
     "shell.execute_reply": "2023-02-07T04:17:17.067850Z"
    },
    "papermill": {
     "duration": 0.034942,
     "end_time": "2023-02-07T04:17:17.071279",
     "exception": false,
     "start_time": "2023-02-07T04:17:17.036337",
     "status": "completed"
    },
    "tags": []
   },
   "outputs": [
    {
     "data": {
      "text/html": [
       "<div>\n",
       "<style scoped>\n",
       "    .dataframe tbody tr th:only-of-type {\n",
       "        vertical-align: middle;\n",
       "    }\n",
       "\n",
       "    .dataframe tbody tr th {\n",
       "        vertical-align: top;\n",
       "    }\n",
       "\n",
       "    .dataframe thead th {\n",
       "        text-align: right;\n",
       "    }\n",
       "</style>\n",
       "<table border=\"1\" class=\"dataframe\">\n",
       "  <thead>\n",
       "    <tr style=\"text-align: right;\">\n",
       "      <th></th>\n",
       "      <th>Tweets</th>\n",
       "      <th>word_count</th>\n",
       "    </tr>\n",
       "  </thead>\n",
       "  <tbody>\n",
       "    <tr>\n",
       "      <th>0</th>\n",
       "      <td>@kunalb11 Im an alien</td>\n",
       "      <td>4</td>\n",
       "    </tr>\n",
       "    <tr>\n",
       "      <th>1</th>\n",
       "      <td>@ID_AA_Carmack Ray tracing on Cyberpunk with H...</td>\n",
       "      <td>13</td>\n",
       "    </tr>\n",
       "    <tr>\n",
       "      <th>2</th>\n",
       "      <td>@joerogan @Spotify Great interview!</td>\n",
       "      <td>4</td>\n",
       "    </tr>\n",
       "    <tr>\n",
       "      <th>3</th>\n",
       "      <td>@gtera27 Doge is underestimated</td>\n",
       "      <td>4</td>\n",
       "    </tr>\n",
       "    <tr>\n",
       "      <th>4</th>\n",
       "      <td>@teslacn Congratulations Tesla China for amazi...</td>\n",
       "      <td>17</td>\n",
       "    </tr>\n",
       "  </tbody>\n",
       "</table>\n",
       "</div>"
      ],
      "text/plain": [
       "                                              Tweets  word_count\n",
       "0                             @kunalb11 Im an alien           4\n",
       "1  @ID_AA_Carmack Ray tracing on Cyberpunk with H...          13\n",
       "2                @joerogan @Spotify Great interview!           4\n",
       "3                    @gtera27 Doge is underestimated           4\n",
       "4  @teslacn Congratulations Tesla China for amazi...          17"
      ]
     },
     "execution_count": 7,
     "metadata": {},
     "output_type": "execute_result"
    }
   ],
   "source": [
    "tweets['word_count'] = tweets['Tweets'].apply(lambda x: len(str(x).split(\" \")))\n",
    "tweets[['Tweets','word_count']].head()"
   ]
  },
  {
   "cell_type": "code",
   "execution_count": 8,
   "id": "b832dcf3",
   "metadata": {
    "execution": {
     "iopub.execute_input": "2023-02-07T04:17:17.097139Z",
     "iopub.status.busy": "2023-02-07T04:17:17.096660Z",
     "iopub.status.idle": "2023-02-07T04:17:17.101486Z",
     "shell.execute_reply": "2023-02-07T04:17:17.100567Z"
    },
    "papermill": {
     "duration": 0.0205,
     "end_time": "2023-02-07T04:17:17.103789",
     "exception": false,
     "start_time": "2023-02-07T04:17:17.083289",
     "status": "completed"
    },
    "tags": []
   },
   "outputs": [],
   "source": [
    "##Number of characters"
   ]
  },
  {
   "cell_type": "code",
   "execution_count": 9,
   "id": "d12da77d",
   "metadata": {
    "execution": {
     "iopub.execute_input": "2023-02-07T04:17:17.130073Z",
     "iopub.status.busy": "2023-02-07T04:17:17.129557Z",
     "iopub.status.idle": "2023-02-07T04:17:17.147301Z",
     "shell.execute_reply": "2023-02-07T04:17:17.145802Z"
    },
    "papermill": {
     "duration": 0.03392,
     "end_time": "2023-02-07T04:17:17.149887",
     "exception": false,
     "start_time": "2023-02-07T04:17:17.115967",
     "status": "completed"
    },
    "tags": []
   },
   "outputs": [
    {
     "data": {
      "text/html": [
       "<div>\n",
       "<style scoped>\n",
       "    .dataframe tbody tr th:only-of-type {\n",
       "        vertical-align: middle;\n",
       "    }\n",
       "\n",
       "    .dataframe tbody tr th {\n",
       "        vertical-align: top;\n",
       "    }\n",
       "\n",
       "    .dataframe thead th {\n",
       "        text-align: right;\n",
       "    }\n",
       "</style>\n",
       "<table border=\"1\" class=\"dataframe\">\n",
       "  <thead>\n",
       "    <tr style=\"text-align: right;\">\n",
       "      <th></th>\n",
       "      <th>Tweets</th>\n",
       "      <th>char_count</th>\n",
       "    </tr>\n",
       "  </thead>\n",
       "  <tbody>\n",
       "    <tr>\n",
       "      <th>0</th>\n",
       "      <td>@kunalb11 Im an alien</td>\n",
       "      <td>22</td>\n",
       "    </tr>\n",
       "    <tr>\n",
       "      <th>1</th>\n",
       "      <td>@ID_AA_Carmack Ray tracing on Cyberpunk with H...</td>\n",
       "      <td>82</td>\n",
       "    </tr>\n",
       "    <tr>\n",
       "      <th>2</th>\n",
       "      <td>@joerogan @Spotify Great interview!</td>\n",
       "      <td>35</td>\n",
       "    </tr>\n",
       "    <tr>\n",
       "      <th>3</th>\n",
       "      <td>@gtera27 Doge is underestimated</td>\n",
       "      <td>31</td>\n",
       "    </tr>\n",
       "    <tr>\n",
       "      <th>4</th>\n",
       "      <td>@teslacn Congratulations Tesla China for amazi...</td>\n",
       "      <td>104</td>\n",
       "    </tr>\n",
       "  </tbody>\n",
       "</table>\n",
       "</div>"
      ],
      "text/plain": [
       "                                              Tweets  char_count\n",
       "0                             @kunalb11 Im an alien          22\n",
       "1  @ID_AA_Carmack Ray tracing on Cyberpunk with H...          82\n",
       "2                @joerogan @Spotify Great interview!          35\n",
       "3                    @gtera27 Doge is underestimated          31\n",
       "4  @teslacn Congratulations Tesla China for amazi...         104"
      ]
     },
     "execution_count": 9,
     "metadata": {},
     "output_type": "execute_result"
    }
   ],
   "source": [
    "tweets['char_count'] = tweets['Tweets'].str.len() ## this also includes spaces\n",
    "tweets[['Tweets','char_count']].head()"
   ]
  },
  {
   "cell_type": "code",
   "execution_count": 10,
   "id": "eaa5a918",
   "metadata": {
    "execution": {
     "iopub.execute_input": "2023-02-07T04:17:17.176741Z",
     "iopub.status.busy": "2023-02-07T04:17:17.176259Z",
     "iopub.status.idle": "2023-02-07T04:17:17.200864Z",
     "shell.execute_reply": "2023-02-07T04:17:17.199360Z"
    },
    "papermill": {
     "duration": 0.041032,
     "end_time": "2023-02-07T04:17:17.203350",
     "exception": false,
     "start_time": "2023-02-07T04:17:17.162318",
     "status": "completed"
    },
    "tags": []
   },
   "outputs": [
    {
     "data": {
      "text/html": [
       "<div>\n",
       "<style scoped>\n",
       "    .dataframe tbody tr th:only-of-type {\n",
       "        vertical-align: middle;\n",
       "    }\n",
       "\n",
       "    .dataframe tbody tr th {\n",
       "        vertical-align: top;\n",
       "    }\n",
       "\n",
       "    .dataframe thead th {\n",
       "        text-align: right;\n",
       "    }\n",
       "</style>\n",
       "<table border=\"1\" class=\"dataframe\">\n",
       "  <thead>\n",
       "    <tr style=\"text-align: right;\">\n",
       "      <th></th>\n",
       "      <th>Tweets</th>\n",
       "      <th>avg_word</th>\n",
       "    </tr>\n",
       "  </thead>\n",
       "  <tbody>\n",
       "    <tr>\n",
       "      <th>0</th>\n",
       "      <td>@kunalb11 Im an alien</td>\n",
       "      <td>4.750000</td>\n",
       "    </tr>\n",
       "    <tr>\n",
       "      <th>1</th>\n",
       "      <td>@ID_AA_Carmack Ray tracing on Cyberpunk with H...</td>\n",
       "      <td>5.384615</td>\n",
       "    </tr>\n",
       "    <tr>\n",
       "      <th>2</th>\n",
       "      <td>@joerogan @Spotify Great interview!</td>\n",
       "      <td>8.000000</td>\n",
       "    </tr>\n",
       "    <tr>\n",
       "      <th>3</th>\n",
       "      <td>@gtera27 Doge is underestimated</td>\n",
       "      <td>7.000000</td>\n",
       "    </tr>\n",
       "    <tr>\n",
       "      <th>4</th>\n",
       "      <td>@teslacn Congratulations Tesla China for amazi...</td>\n",
       "      <td>5.176471</td>\n",
       "    </tr>\n",
       "  </tbody>\n",
       "</table>\n",
       "</div>"
      ],
      "text/plain": [
       "                                              Tweets  avg_word\n",
       "0                             @kunalb11 Im an alien  4.750000\n",
       "1  @ID_AA_Carmack Ray tracing on Cyberpunk with H...  5.384615\n",
       "2                @joerogan @Spotify Great interview!  8.000000\n",
       "3                    @gtera27 Doge is underestimated  7.000000\n",
       "4  @teslacn Congratulations Tesla China for amazi...  5.176471"
      ]
     },
     "execution_count": 10,
     "metadata": {},
     "output_type": "execute_result"
    }
   ],
   "source": [
    "def avg_word(sentence):\n",
    "  words = sentence.split()\n",
    "  return (sum(len(word) for word in words)/len(words))\n",
    "\n",
    "tweets['avg_word'] = tweets['Tweets'].apply(lambda x: avg_word(x))\n",
    "tweets[['Tweets','avg_word']].head()"
   ]
  },
  {
   "cell_type": "code",
   "execution_count": 11,
   "id": "5756d6ef",
   "metadata": {
    "execution": {
     "iopub.execute_input": "2023-02-07T04:17:17.231186Z",
     "iopub.status.busy": "2023-02-07T04:17:17.230743Z",
     "iopub.status.idle": "2023-02-07T04:17:17.236177Z",
     "shell.execute_reply": "2023-02-07T04:17:17.235012Z"
    },
    "papermill": {
     "duration": 0.022327,
     "end_time": "2023-02-07T04:17:17.238773",
     "exception": false,
     "start_time": "2023-02-07T04:17:17.216446",
     "status": "completed"
    },
    "tags": []
   },
   "outputs": [],
   "source": [
    "data = tweets.copy()"
   ]
  },
  {
   "cell_type": "code",
   "execution_count": 12,
   "id": "f8937271",
   "metadata": {
    "execution": {
     "iopub.execute_input": "2023-02-07T04:17:17.265928Z",
     "iopub.status.busy": "2023-02-07T04:17:17.265496Z",
     "iopub.status.idle": "2023-02-07T04:17:17.278709Z",
     "shell.execute_reply": "2023-02-07T04:17:17.277450Z"
    },
    "papermill": {
     "duration": 0.02985,
     "end_time": "2023-02-07T04:17:17.281328",
     "exception": false,
     "start_time": "2023-02-07T04:17:17.251478",
     "status": "completed"
    },
    "tags": []
   },
   "outputs": [],
   "source": [
    "import re #regular expression\n",
    "import string\n",
    "\n",
    "def cleaning_text(text):\n",
    "\n",
    "      text = re.sub('U+0001F923', \"\", text)\n",
    "      text = re.sub('U+0001F3B6', \"\", text)\n",
    "      text = re.sub('U+0001F5A4', \"\", text)\n",
    "      text = re.sub('@[\\w]*', \" \", text)\n",
    "      text = re.sub('https?://\\S+|www\\.\\S+', \" \", text)\n",
    "      text = re.sub('\\n',  \" \", text)\n",
    "      text = re.sub(\"ß\", \"b\", text)\n",
    "      text = re.sub(\"ð\", \"o\", text)\n",
    "      text = re.sub(\"ö\", \"o\", text)\n",
    "      text = re.sub(\"ø\", \"o\", text)\n",
    "      text = re.sub(\"ü\", \"u\", text)\n",
    "      text = re.sub(\"à\", \"a\", text)\n",
    "      text = re.sub(\"ä\", \"a\", text)\n",
    "      text = re.sub(\"è\", \"e\", text)\n",
    "      text = re.sub(\"é\", \"e\", text)\n",
    "      text = re.sub('', \"\", text)\n",
    "      text = re.sub('",
    "', \"\", text)\n",
    "      text = re.sub('\\[.*?\\]', '', text)\n",
    "      text = re.sub('https?://\\S+|www\\.\\S+', '', text)\n",
    "      text = re.sub('<.*?>+', '', text)\n",
    "      text = re.sub('[%s]' % re.escape(string.punctuation), '', text)\n",
    "      text = re.sub('\\w*\\d\\w*', '', text)\n",
    "      text = re.sub('@[\\w]*', '', text)\n",
    "      text = re.sub(\"[0-9\" \"]+\",\" \",text)\n",
    "      text = re.sub('[‘’“”…]', '', text)\n",
    " \n",
    "      return text\n",
    "\n",
    "cleaning = lambda x: cleaning_text(x)\n",
    "\n",
    "def clean_text(text):\n",
    "\n",
    "      text = text.lower()\n",
    "      text = re.sub(r'[^\\w\\s]',\" \", text)\n",
    "      \n",
    "      return text\n",
    "\n",
    "clean = lambda x: clean_text(x)"
   ]
  },
  {
   "cell_type": "code",
   "execution_count": 13,
   "id": "4955eb6c",
   "metadata": {
    "execution": {
     "iopub.execute_input": "2023-02-07T04:17:17.308988Z",
     "iopub.status.busy": "2023-02-07T04:17:17.308555Z",
     "iopub.status.idle": "2023-02-07T04:17:17.418000Z",
     "shell.execute_reply": "2023-02-07T04:17:17.416869Z"
    },
    "papermill": {
     "duration": 0.126683,
     "end_time": "2023-02-07T04:17:17.420673",
     "exception": false,
     "start_time": "2023-02-07T04:17:17.293990",
     "status": "completed"
    },
    "tags": []
   },
   "outputs": [
    {
     "data": {
      "text/html": [
       "<div>\n",
       "<style scoped>\n",
       "    .dataframe tbody tr th:only-of-type {\n",
       "        vertical-align: middle;\n",
       "    }\n",
       "\n",
       "    .dataframe tbody tr th {\n",
       "        vertical-align: top;\n",
       "    }\n",
       "\n",
       "    .dataframe thead th {\n",
       "        text-align: right;\n",
       "    }\n",
       "</style>\n",
       "<table border=\"1\" class=\"dataframe\">\n",
       "  <thead>\n",
       "    <tr style=\"text-align: right;\">\n",
       "      <th></th>\n",
       "      <th>Tweets</th>\n",
       "      <th>word_count</th>\n",
       "      <th>char_count</th>\n",
       "      <th>avg_word</th>\n",
       "      <th>Tidy_Tweets</th>\n",
       "    </tr>\n",
       "  </thead>\n",
       "  <tbody>\n",
       "    <tr>\n",
       "      <th>0</th>\n",
       "      <td>@kunalb11 Im an alien</td>\n",
       "      <td>4</td>\n",
       "      <td>22</td>\n",
       "      <td>4.750000</td>\n",
       "      <td>Im an alien</td>\n",
       "    </tr>\n",
       "    <tr>\n",
       "      <th>1</th>\n",
       "      <td>@ID_AA_Carmack Ray tracing on Cyberpunk with H...</td>\n",
       "      <td>13</td>\n",
       "      <td>82</td>\n",
       "      <td>5.384615</td>\n",
       "      <td>Ray tracing on Cyberpunk with HDR is nextlev...</td>\n",
       "    </tr>\n",
       "    <tr>\n",
       "      <th>2</th>\n",
       "      <td>@joerogan @Spotify Great interview!</td>\n",
       "      <td>4</td>\n",
       "      <td>35</td>\n",
       "      <td>8.000000</td>\n",
       "      <td>Great interview</td>\n",
       "    </tr>\n",
       "    <tr>\n",
       "      <th>3</th>\n",
       "      <td>@gtera27 Doge is underestimated</td>\n",
       "      <td>4</td>\n",
       "      <td>31</td>\n",
       "      <td>7.000000</td>\n",
       "      <td>Doge is underestimated</td>\n",
       "    </tr>\n",
       "    <tr>\n",
       "      <th>4</th>\n",
       "      <td>@teslacn Congratulations Tesla China for amazi...</td>\n",
       "      <td>17</td>\n",
       "      <td>104</td>\n",
       "      <td>5.176471</td>\n",
       "      <td>Congratulations Tesla China for amazing exec...</td>\n",
       "    </tr>\n",
       "    <tr>\n",
       "      <th>5</th>\n",
       "      <td>Happy New Year of the Ox! https://t.co/9WFKMYu2oj</td>\n",
       "      <td>7</td>\n",
       "      <td>49</td>\n",
       "      <td>6.142857</td>\n",
       "      <td>Happy New Year of the Ox</td>\n",
       "    </tr>\n",
       "    <tr>\n",
       "      <th>6</th>\n",
       "      <td>Frodo was the underdoge,\\nAll thought he would...</td>\n",
       "      <td>12</td>\n",
       "      <td>96</td>\n",
       "      <td>5.928571</td>\n",
       "      <td>Frodo was the underdoge All thought he would f...</td>\n",
       "    </tr>\n",
       "    <tr>\n",
       "      <th>7</th>\n",
       "      <td>@OwenSparks_ @flcnhvy @anonyx10 Haha thanks :)</td>\n",
       "      <td>6</td>\n",
       "      <td>46</td>\n",
       "      <td>6.833333</td>\n",
       "      <td>Haha thanks</td>\n",
       "    </tr>\n",
       "    <tr>\n",
       "      <th>8</th>\n",
       "      <td>@flcnhvy @anonyx10 Indeed! Tweets definitely d...</td>\n",
       "      <td>11</td>\n",
       "      <td>89</td>\n",
       "      <td>7.181818</td>\n",
       "      <td>Indeed Tweets definitely do not represent ...</td>\n",
       "    </tr>\n",
       "    <tr>\n",
       "      <th>9</th>\n",
       "      <td>The most entertaining outcome is the most likely</td>\n",
       "      <td>8</td>\n",
       "      <td>48</td>\n",
       "      <td>5.125000</td>\n",
       "      <td>The most entertaining outcome is the most likely</td>\n",
       "    </tr>\n",
       "    <tr>\n",
       "      <th>10</th>\n",
       "      <td>@GiveDirectly Just sent some</td>\n",
       "      <td>4</td>\n",
       "      <td>28</td>\n",
       "      <td>6.250000</td>\n",
       "      <td>Just sent some</td>\n",
       "    </tr>\n",
       "    <tr>\n",
       "      <th>11</th>\n",
       "      <td>Just agree to do Clubhouse with @kanyewest</td>\n",
       "      <td>7</td>\n",
       "      <td>42</td>\n",
       "      <td>5.142857</td>\n",
       "      <td>Just agree to do Clubhouse with</td>\n",
       "    </tr>\n",
       "    <tr>\n",
       "      <th>12</th>\n",
       "      <td>https://t.co/3rWE9uHSTS</td>\n",
       "      <td>1</td>\n",
       "      <td>23</td>\n",
       "      <td>23.000000</td>\n",
       "      <td></td>\n",
       "    </tr>\n",
       "    <tr>\n",
       "      <th>13</th>\n",
       "      <td>@geoffkeighley @UnrealEngine Its getting real</td>\n",
       "      <td>5</td>\n",
       "      <td>46</td>\n",
       "      <td>8.400000</td>\n",
       "      <td>Its getting real</td>\n",
       "    </tr>\n",
       "    <tr>\n",
       "      <th>14</th>\n",
       "      <td>Bought some Dogecoin for lil X, so he can be a...</td>\n",
       "      <td>13</td>\n",
       "      <td>61</td>\n",
       "      <td>3.769231</td>\n",
       "      <td>Bought some Dogecoin for lil X so he can be a ...</td>\n",
       "    </tr>\n",
       "    <tr>\n",
       "      <th>15</th>\n",
       "      <td>@JoshManMode He definitely has issues, but the...</td>\n",
       "      <td>12</td>\n",
       "      <td>74</td>\n",
       "      <td>5.250000</td>\n",
       "      <td>He definitely has issues but the sentencing ...</td>\n",
       "    </tr>\n",
       "    <tr>\n",
       "      <th>16</th>\n",
       "      <td>@freewalletorg Thanks for fixing</td>\n",
       "      <td>4</td>\n",
       "      <td>32</td>\n",
       "      <td>7.250000</td>\n",
       "      <td>Thanks for fixing</td>\n",
       "    </tr>\n",
       "    <tr>\n",
       "      <th>17</th>\n",
       "      <td>@freewalletorg Please unlock my account</td>\n",
       "      <td>5</td>\n",
       "      <td>39</td>\n",
       "      <td>7.000000</td>\n",
       "      <td>Please unlock my account</td>\n",
       "    </tr>\n",
       "    <tr>\n",
       "      <th>18</th>\n",
       "      <td>@AstroJordy &lt;U+0001F923&gt;&lt;U+0001F923&gt;</td>\n",
       "      <td>2</td>\n",
       "      <td>36</td>\n",
       "      <td>17.500000</td>\n",
       "      <td></td>\n",
       "    </tr>\n",
       "    <tr>\n",
       "      <th>19</th>\n",
       "      <td>This is true power haha https://t.co/Fc9uhQSd7O</td>\n",
       "      <td>6</td>\n",
       "      <td>47</td>\n",
       "      <td>7.000000</td>\n",
       "      <td>This is true power haha</td>\n",
       "    </tr>\n",
       "  </tbody>\n",
       "</table>\n",
       "</div>"
      ],
      "text/plain": [
       "                                               Tweets  word_count  char_count  \\\n",
       "0                              @kunalb11 Im an alien           4          22   \n",
       "1   @ID_AA_Carmack Ray tracing on Cyberpunk with H...          13          82   \n",
       "2                 @joerogan @Spotify Great interview!           4          35   \n",
       "3                     @gtera27 Doge is underestimated           4          31   \n",
       "4   @teslacn Congratulations Tesla China for amazi...          17         104   \n",
       "5   Happy New Year of the Ox! https://t.co/9WFKMYu2oj           7          49   \n",
       "6   Frodo was the underdoge,\\nAll thought he would...          12          96   \n",
       "7      @OwenSparks_ @flcnhvy @anonyx10 Haha thanks :)           6          46   \n",
       "8   @flcnhvy @anonyx10 Indeed! Tweets definitely d...          11          89   \n",
       "9    The most entertaining outcome is the most likely           8          48   \n",
       "10                       @GiveDirectly Just sent some           4          28   \n",
       "11         Just agree to do Clubhouse with @kanyewest           7          42   \n",
       "12                            https://t.co/3rWE9uHSTS           1          23   \n",
       "13     @geoffkeighley @UnrealEngine Its getting real           5          46   \n",
       "14  Bought some Dogecoin for lil X, so he can be a...          13          61   \n",
       "15  @JoshManMode He definitely has issues, but the...          12          74   \n",
       "16                   @freewalletorg Thanks for fixing           4          32   \n",
       "17            @freewalletorg Please unlock my account           5          39   \n",
       "18               @AstroJordy <U+0001F923><U+0001F923>           2          36   \n",
       "19    This is true power haha https://t.co/Fc9uhQSd7O           6          47   \n",
       "\n",
       "     avg_word                                        Tidy_Tweets  \n",
       "0    4.750000                                       Im an alien  \n",
       "1    5.384615    Ray tracing on Cyberpunk with HDR is nextlev...  \n",
       "2    8.000000                                    Great interview  \n",
       "3    7.000000                             Doge is underestimated  \n",
       "4    5.176471    Congratulations Tesla China for amazing exec...  \n",
       "5    6.142857                         Happy New Year of the Ox    \n",
       "6    5.928571  Frodo was the underdoge All thought he would f...  \n",
       "7    6.833333                                       Haha thanks   \n",
       "8    7.181818      Indeed Tweets definitely do not represent ...  \n",
       "9    5.125000   The most entertaining outcome is the most likely  \n",
       "10   6.250000                                     Just sent some  \n",
       "11   5.142857                  Just agree to do Clubhouse with    \n",
       "12  23.000000                                                     \n",
       "13   8.400000                                  Its getting real  \n",
       "14   3.769231  Bought some Dogecoin for lil X so he can be a ...  \n",
       "15   5.250000    He definitely has issues but the sentencing ...  \n",
       "16   7.250000                                  Thanks for fixing  \n",
       "17   7.000000                           Please unlock my account  \n",
       "18  17.500000                                                     \n",
       "19   7.000000                          This is true power haha    "
      ]
     },
     "execution_count": 13,
     "metadata": {},
     "output_type": "execute_result"
    }
   ],
   "source": [
    "data['Tidy_Tweets'] = data.Tweets.apply(cleaning)\n",
    "data.head(20)"
   ]
  },
  {
   "cell_type": "code",
   "execution_count": 14,
   "id": "7aa0cf07",
   "metadata": {
    "execution": {
     "iopub.execute_input": "2023-02-07T04:17:17.448592Z",
     "iopub.status.busy": "2023-02-07T04:17:17.448114Z",
     "iopub.status.idle": "2023-02-07T04:17:17.468116Z",
     "shell.execute_reply": "2023-02-07T04:17:17.467018Z"
    },
    "papermill": {
     "duration": 0.037247,
     "end_time": "2023-02-07T04:17:17.470907",
     "exception": false,
     "start_time": "2023-02-07T04:17:17.433660",
     "status": "completed"
    },
    "tags": []
   },
   "outputs": [
    {
     "data": {
      "text/html": [
       "<div>\n",
       "<style scoped>\n",
       "    .dataframe tbody tr th:only-of-type {\n",
       "        vertical-align: middle;\n",
       "    }\n",
       "\n",
       "    .dataframe tbody tr th {\n",
       "        vertical-align: top;\n",
       "    }\n",
       "\n",
       "    .dataframe thead th {\n",
       "        text-align: right;\n",
       "    }\n",
       "</style>\n",
       "<table border=\"1\" class=\"dataframe\">\n",
       "  <thead>\n",
       "    <tr style=\"text-align: right;\">\n",
       "      <th></th>\n",
       "      <th>Tweets</th>\n",
       "      <th>word_count</th>\n",
       "      <th>char_count</th>\n",
       "      <th>avg_word</th>\n",
       "      <th>Tidy_Tweets</th>\n",
       "    </tr>\n",
       "  </thead>\n",
       "  <tbody>\n",
       "    <tr>\n",
       "      <th>0</th>\n",
       "      <td>@kunalb11 Im an alien</td>\n",
       "      <td>4</td>\n",
       "      <td>22</td>\n",
       "      <td>4.750000</td>\n",
       "      <td>i m an alien</td>\n",
       "    </tr>\n",
       "    <tr>\n",
       "      <th>1</th>\n",
       "      <td>@ID_AA_Carmack Ray tracing on Cyberpunk with H...</td>\n",
       "      <td>13</td>\n",
       "      <td>82</td>\n",
       "      <td>5.384615</td>\n",
       "      <td>ray tracing on cyberpunk with hdr is nextlev...</td>\n",
       "    </tr>\n",
       "    <tr>\n",
       "      <th>2</th>\n",
       "      <td>@joerogan @Spotify Great interview!</td>\n",
       "      <td>4</td>\n",
       "      <td>35</td>\n",
       "      <td>8.000000</td>\n",
       "      <td>great interview</td>\n",
       "    </tr>\n",
       "    <tr>\n",
       "      <th>3</th>\n",
       "      <td>@gtera27 Doge is underestimated</td>\n",
       "      <td>4</td>\n",
       "      <td>31</td>\n",
       "      <td>7.000000</td>\n",
       "      <td>doge is underestimated</td>\n",
       "    </tr>\n",
       "    <tr>\n",
       "      <th>4</th>\n",
       "      <td>@teslacn Congratulations Tesla China for amazi...</td>\n",
       "      <td>17</td>\n",
       "      <td>104</td>\n",
       "      <td>5.176471</td>\n",
       "      <td>congratulations tesla china for amazing exec...</td>\n",
       "    </tr>\n",
       "  </tbody>\n",
       "</table>\n",
       "</div>"
      ],
      "text/plain": [
       "                                              Tweets  word_count  char_count  \\\n",
       "0                             @kunalb11 Im an alien           4          22   \n",
       "1  @ID_AA_Carmack Ray tracing on Cyberpunk with H...          13          82   \n",
       "2                @joerogan @Spotify Great interview!           4          35   \n",
       "3                    @gtera27 Doge is underestimated           4          31   \n",
       "4  @teslacn Congratulations Tesla China for amazi...          17         104   \n",
       "\n",
       "   avg_word                                        Tidy_Tweets  \n",
       "0  4.750000                                       i m an alien  \n",
       "1  5.384615    ray tracing on cyberpunk with hdr is nextlev...  \n",
       "2  8.000000                                    great interview  \n",
       "3  7.000000                             doge is underestimated  \n",
       "4  5.176471    congratulations tesla china for amazing exec...  "
      ]
     },
     "execution_count": 14,
     "metadata": {},
     "output_type": "execute_result"
    }
   ],
   "source": [
    "data['Tidy_Tweets'] = data.Tidy_Tweets.apply(clean)\n",
    "data.head(5)"
   ]
  },
  {
   "cell_type": "code",
   "execution_count": 15,
   "id": "23cb5c41",
   "metadata": {
    "execution": {
     "iopub.execute_input": "2023-02-07T04:17:17.500185Z",
     "iopub.status.busy": "2023-02-07T04:17:17.499747Z",
     "iopub.status.idle": "2023-02-07T04:17:17.509059Z",
     "shell.execute_reply": "2023-02-07T04:17:17.507537Z"
    },
    "papermill": {
     "duration": 0.027829,
     "end_time": "2023-02-07T04:17:17.512219",
     "exception": false,
     "start_time": "2023-02-07T04:17:17.484390",
     "status": "completed"
    },
    "tags": []
   },
   "outputs": [
    {
     "name": "stdout",
     "output_type": "stream",
     "text": [
      " abcdefghijklmnopqrstuvwxyz ð\n",
      "29\n"
     ]
    }
   ],
   "source": [
    "clean_total = \" \".join(data[\"Tidy_Tweets\"])\n",
    "chars = sorted(list(set(clean_total)))\n",
    "vocab_size = len(chars)\n",
    "print(''.join(chars))\n",
    "print(vocab_size)"
   ]
  },
  {
   "cell_type": "code",
   "execution_count": 16,
   "id": "2ce3bd24",
   "metadata": {
    "execution": {
     "iopub.execute_input": "2023-02-07T04:17:17.540727Z",
     "iopub.status.busy": "2023-02-07T04:17:17.540274Z",
     "iopub.status.idle": "2023-02-07T04:17:17.557462Z",
     "shell.execute_reply": "2023-02-07T04:17:17.556073Z"
    },
    "papermill": {
     "duration": 0.034711,
     "end_time": "2023-02-07T04:17:17.560214",
     "exception": false,
     "start_time": "2023-02-07T04:17:17.525503",
     "status": "completed"
    },
    "tags": []
   },
   "outputs": [
    {
     "data": {
      "text/html": [
       "<div>\n",
       "<style scoped>\n",
       "    .dataframe tbody tr th:only-of-type {\n",
       "        vertical-align: middle;\n",
       "    }\n",
       "\n",
       "    .dataframe tbody tr th {\n",
       "        vertical-align: top;\n",
       "    }\n",
       "\n",
       "    .dataframe thead th {\n",
       "        text-align: right;\n",
       "    }\n",
       "</style>\n",
       "<table border=\"1\" class=\"dataframe\">\n",
       "  <thead>\n",
       "    <tr style=\"text-align: right;\">\n",
       "      <th></th>\n",
       "      <th>Tweets</th>\n",
       "      <th>word_count</th>\n",
       "      <th>char_count</th>\n",
       "      <th>avg_word</th>\n",
       "      <th>Tidy_Tweets</th>\n",
       "    </tr>\n",
       "  </thead>\n",
       "  <tbody>\n",
       "    <tr>\n",
       "      <th>0</th>\n",
       "      <td>@kunalb11 Im an alien</td>\n",
       "      <td>4</td>\n",
       "      <td>22</td>\n",
       "      <td>4.750000</td>\n",
       "      <td>i m an alien</td>\n",
       "    </tr>\n",
       "    <tr>\n",
       "      <th>1</th>\n",
       "      <td>@ID_AA_Carmack Ray tracing on Cyberpunk with H...</td>\n",
       "      <td>13</td>\n",
       "      <td>82</td>\n",
       "      <td>5.384615</td>\n",
       "      <td>ray tracing on cyberpunk with hdr is nextlev...</td>\n",
       "    </tr>\n",
       "    <tr>\n",
       "      <th>2</th>\n",
       "      <td>@joerogan @Spotify Great interview!</td>\n",
       "      <td>4</td>\n",
       "      <td>35</td>\n",
       "      <td>8.000000</td>\n",
       "      <td>great interview</td>\n",
       "    </tr>\n",
       "    <tr>\n",
       "      <th>3</th>\n",
       "      <td>@gtera27 Doge is underestimated</td>\n",
       "      <td>4</td>\n",
       "      <td>31</td>\n",
       "      <td>7.000000</td>\n",
       "      <td>doge is underestimated</td>\n",
       "    </tr>\n",
       "    <tr>\n",
       "      <th>4</th>\n",
       "      <td>@teslacn Congratulations Tesla China for amazi...</td>\n",
       "      <td>17</td>\n",
       "      <td>104</td>\n",
       "      <td>5.176471</td>\n",
       "      <td>congratulations tesla china for amazing exec...</td>\n",
       "    </tr>\n",
       "    <tr>\n",
       "      <th>5</th>\n",
       "      <td>Happy New Year of the Ox! https://t.co/9WFKMYu2oj</td>\n",
       "      <td>7</td>\n",
       "      <td>49</td>\n",
       "      <td>6.142857</td>\n",
       "      <td>happy new year of the ox</td>\n",
       "    </tr>\n",
       "    <tr>\n",
       "      <th>6</th>\n",
       "      <td>Frodo was the underdoge,\\nAll thought he would...</td>\n",
       "      <td>12</td>\n",
       "      <td>96</td>\n",
       "      <td>5.928571</td>\n",
       "      <td>frodo was the underdoge all thought he would f...</td>\n",
       "    </tr>\n",
       "    <tr>\n",
       "      <th>7</th>\n",
       "      <td>@OwenSparks_ @flcnhvy @anonyx10 Haha thanks :)</td>\n",
       "      <td>6</td>\n",
       "      <td>46</td>\n",
       "      <td>6.833333</td>\n",
       "      <td>haha thanks</td>\n",
       "    </tr>\n",
       "    <tr>\n",
       "      <th>8</th>\n",
       "      <td>@flcnhvy @anonyx10 Indeed! Tweets definitely d...</td>\n",
       "      <td>11</td>\n",
       "      <td>89</td>\n",
       "      <td>7.181818</td>\n",
       "      <td>indeed tweets definitely do not represent ...</td>\n",
       "    </tr>\n",
       "    <tr>\n",
       "      <th>9</th>\n",
       "      <td>The most entertaining outcome is the most likely</td>\n",
       "      <td>8</td>\n",
       "      <td>48</td>\n",
       "      <td>5.125000</td>\n",
       "      <td>the most entertaining outcome is the most likely</td>\n",
       "    </tr>\n",
       "  </tbody>\n",
       "</table>\n",
       "</div>"
      ],
      "text/plain": [
       "                                              Tweets  word_count  char_count  \\\n",
       "0                             @kunalb11 Im an alien           4          22   \n",
       "1  @ID_AA_Carmack Ray tracing on Cyberpunk with H...          13          82   \n",
       "2                @joerogan @Spotify Great interview!           4          35   \n",
       "3                    @gtera27 Doge is underestimated           4          31   \n",
       "4  @teslacn Congratulations Tesla China for amazi...          17         104   \n",
       "5  Happy New Year of the Ox! https://t.co/9WFKMYu2oj           7          49   \n",
       "6  Frodo was the underdoge,\\nAll thought he would...          12          96   \n",
       "7     @OwenSparks_ @flcnhvy @anonyx10 Haha thanks :)           6          46   \n",
       "8  @flcnhvy @anonyx10 Indeed! Tweets definitely d...          11          89   \n",
       "9   The most entertaining outcome is the most likely           8          48   \n",
       "\n",
       "   avg_word                                        Tidy_Tweets  \n",
       "0  4.750000                                       i m an alien  \n",
       "1  5.384615    ray tracing on cyberpunk with hdr is nextlev...  \n",
       "2  8.000000                                    great interview  \n",
       "3  7.000000                             doge is underestimated  \n",
       "4  5.176471    congratulations tesla china for amazing exec...  \n",
       "5  6.142857                         happy new year of the ox    \n",
       "6  5.928571  frodo was the underdoge all thought he would f...  \n",
       "7  6.833333                                       haha thanks   \n",
       "8  7.181818      indeed tweets definitely do not represent ...  \n",
       "9  5.125000   the most entertaining outcome is the most likely  "
      ]
     },
     "execution_count": 16,
     "metadata": {},
     "output_type": "execute_result"
    }
   ],
   "source": [
    "data = data[data['Tidy_Tweets']!='']\n",
    "data.head(10)"
   ]
  },
  {
   "cell_type": "code",
   "execution_count": 17,
   "id": "4654971b",
   "metadata": {
    "execution": {
     "iopub.execute_input": "2023-02-07T04:17:17.590057Z",
     "iopub.status.busy": "2023-02-07T04:17:17.589561Z",
     "iopub.status.idle": "2023-02-07T04:17:21.294805Z",
     "shell.execute_reply": "2023-02-07T04:17:21.293342Z"
    },
    "papermill": {
     "duration": 3.723644,
     "end_time": "2023-02-07T04:17:21.297809",
     "exception": false,
     "start_time": "2023-02-07T04:17:17.574165",
     "status": "completed"
    },
    "tags": []
   },
   "outputs": [
    {
     "data": {
      "text/plain": [
       "0                                         i m an alien\n",
       "1      ray tracing on cyberpunk with her is nextlev...\n",
       "2                                      great interview\n",
       "3                               done is underestimated\n",
       "4      congratulations tell china for amazing execu...\n",
       "Name: Tidy_Tweets, dtype: object"
      ]
     },
     "execution_count": 17,
     "metadata": {},
     "output_type": "execute_result"
    }
   ],
   "source": [
    "from textblob import TextBlob\n",
    "data['Tidy_Tweets'][:5].apply(lambda x: str(TextBlob(x).correct()))"
   ]
  },
  {
   "cell_type": "code",
   "execution_count": 18,
   "id": "392127d8",
   "metadata": {
    "execution": {
     "iopub.execute_input": "2023-02-07T04:17:21.328102Z",
     "iopub.status.busy": "2023-02-07T04:17:21.327584Z",
     "iopub.status.idle": "2023-02-07T04:17:21.334551Z",
     "shell.execute_reply": "2023-02-07T04:17:21.333677Z"
    },
    "papermill": {
     "duration": 0.025431,
     "end_time": "2023-02-07T04:17:21.337439",
     "exception": false,
     "start_time": "2023-02-07T04:17:21.312008",
     "status": "completed"
    },
    "tags": []
   },
   "outputs": [
    {
     "data": {
      "text/plain": [
       "(1995, 5)"
      ]
     },
     "execution_count": 18,
     "metadata": {},
     "output_type": "execute_result"
    }
   ],
   "source": [
    "data.shape"
   ]
  },
  {
   "cell_type": "code",
   "execution_count": 19,
   "id": "c3776990",
   "metadata": {
    "execution": {
     "iopub.execute_input": "2023-02-07T04:17:21.369351Z",
     "iopub.status.busy": "2023-02-07T04:17:21.367758Z",
     "iopub.status.idle": "2023-02-07T04:17:21.380670Z",
     "shell.execute_reply": "2023-02-07T04:17:21.379369Z"
    },
    "papermill": {
     "duration": 0.031538,
     "end_time": "2023-02-07T04:17:21.383574",
     "exception": false,
     "start_time": "2023-02-07T04:17:21.352036",
     "status": "completed"
    },
    "tags": []
   },
   "outputs": [
    {
     "data": {
      "text/plain": [
       "(1995, 5)"
      ]
     },
     "execution_count": 19,
     "metadata": {},
     "output_type": "execute_result"
    }
   ],
   "source": [
    "data.drop_duplicates(subset=['Tidy_Tweets'], keep=False)\n",
    "data.shape"
   ]
  },
  {
   "cell_type": "code",
   "execution_count": 20,
   "id": "d2cb3fd4",
   "metadata": {
    "execution": {
     "iopub.execute_input": "2023-02-07T04:17:21.413426Z",
     "iopub.status.busy": "2023-02-07T04:17:21.412928Z",
     "iopub.status.idle": "2023-02-07T04:17:21.432364Z",
     "shell.execute_reply": "2023-02-07T04:17:21.431076Z"
    },
    "papermill": {
     "duration": 0.037489,
     "end_time": "2023-02-07T04:17:21.435013",
     "exception": false,
     "start_time": "2023-02-07T04:17:21.397524",
     "status": "completed"
    },
    "tags": []
   },
   "outputs": [
    {
     "data": {
      "text/plain": [
       "the     487\n",
       "to      400\n",
       "a       357\n",
       "is      356\n",
       "of      315\n",
       "in      219\n",
       "amp     218\n",
       "it      194\n",
       "for     194\n",
       "we      172\n",
       "will    165\n",
       "s       163\n",
       "be      157\n",
       "that    148\n",
       "this    140\n",
       "i       137\n",
       "on      129\n",
       "rt      127\n",
       "but     126\n",
       "with    108\n",
       "dtype: int64"
      ]
     },
     "execution_count": 20,
     "metadata": {},
     "output_type": "execute_result"
    }
   ],
   "source": [
    "#Word frequency\n",
    "freq = pd.Series(' '.join(data['Tidy_Tweets']).split()).value_counts()[:20] # for top 20\n",
    "freq"
   ]
  },
  {
   "cell_type": "code",
   "execution_count": 21,
   "id": "12bc469a",
   "metadata": {
    "execution": {
     "iopub.execute_input": "2023-02-07T04:17:21.464858Z",
     "iopub.status.busy": "2023-02-07T04:17:21.464347Z",
     "iopub.status.idle": "2023-02-07T04:17:22.938319Z",
     "shell.execute_reply": "2023-02-07T04:17:22.936438Z"
    },
    "papermill": {
     "duration": 1.492243,
     "end_time": "2023-02-07T04:17:22.941227",
     "exception": false,
     "start_time": "2023-02-07T04:17:21.448984",
     "status": "completed"
    },
    "tags": []
   },
   "outputs": [
    {
     "name": "stderr",
     "output_type": "stream",
     "text": [
      "[nltk_data] Downloading collection 'popular'\n",
      "[nltk_data]    | \n",
      "[nltk_data]    | Downloading package cmudict to\n",
      "[nltk_data]    |     /usr/share/nltk_data...\n",
      "[nltk_data]    |   Package cmudict is already up-to-date!\n",
      "[nltk_data]    | Downloading package gazetteers to\n",
      "[nltk_data]    |     /usr/share/nltk_data...\n",
      "[nltk_data]    |   Package gazetteers is already up-to-date!\n",
      "[nltk_data]    | Downloading package genesis to\n",
      "[nltk_data]    |     /usr/share/nltk_data...\n",
      "[nltk_data]    |   Package genesis is already up-to-date!\n",
      "[nltk_data]    | Downloading package gutenberg to\n",
      "[nltk_data]    |     /usr/share/nltk_data...\n",
      "[nltk_data]    |   Package gutenberg is already up-to-date!\n",
      "[nltk_data]    | Downloading package inaugural to\n",
      "[nltk_data]    |     /usr/share/nltk_data...\n",
      "[nltk_data]    |   Package inaugural is already up-to-date!\n",
      "[nltk_data]    | Downloading package movie_reviews to\n",
      "[nltk_data]    |     /usr/share/nltk_data...\n",
      "[nltk_data]    |   Package movie_reviews is already up-to-date!\n",
      "[nltk_data]    | Downloading package names to /usr/share/nltk_data...\n",
      "[nltk_data]    |   Package names is already up-to-date!\n",
      "[nltk_data]    | Downloading package shakespeare to\n",
      "[nltk_data]    |     /usr/share/nltk_data...\n",
      "[nltk_data]    |   Package shakespeare is already up-to-date!\n",
      "[nltk_data]    | Downloading package stopwords to\n",
      "[nltk_data]    |     /usr/share/nltk_data...\n",
      "[nltk_data]    |   Package stopwords is already up-to-date!\n",
      "[nltk_data]    | Downloading package treebank to\n",
      "[nltk_data]    |     /usr/share/nltk_data...\n",
      "[nltk_data]    |   Package treebank is already up-to-date!\n",
      "[nltk_data]    | Downloading package twitter_samples to\n",
      "[nltk_data]    |     /usr/share/nltk_data...\n",
      "[nltk_data]    |   Package twitter_samples is already up-to-date!\n",
      "[nltk_data]    | Downloading package omw to /usr/share/nltk_data...\n",
      "[nltk_data]    |   Package omw is already up-to-date!\n",
      "[nltk_data]    | Downloading package omw-1.4 to\n",
      "[nltk_data]    |     /usr/share/nltk_data...\n",
      "[nltk_data]    | Downloading package wordnet to\n",
      "[nltk_data]    |     /usr/share/nltk_data...\n",
      "[nltk_data]    |   Package wordnet is already up-to-date!\n",
      "[nltk_data]    | Downloading package wordnet2021 to\n",
      "[nltk_data]    |     /usr/share/nltk_data...\n",
      "[nltk_data]    | Downloading package wordnet31 to\n",
      "[nltk_data]    |     /usr/share/nltk_data...\n",
      "[nltk_data]    | Downloading package wordnet_ic to\n",
      "[nltk_data]    |     /usr/share/nltk_data...\n",
      "[nltk_data]    |   Package wordnet_ic is already up-to-date!\n",
      "[nltk_data]    | Downloading package words to /usr/share/nltk_data...\n",
      "[nltk_data]    |   Package words is already up-to-date!\n",
      "[nltk_data]    | Downloading package maxent_ne_chunker to\n",
      "[nltk_data]    |     /usr/share/nltk_data...\n",
      "[nltk_data]    |   Package maxent_ne_chunker is already up-to-date!\n",
      "[nltk_data]    | Downloading package punkt to /usr/share/nltk_data...\n",
      "[nltk_data]    |   Package punkt is already up-to-date!\n",
      "[nltk_data]    | Downloading package snowball_data to\n",
      "[nltk_data]    |     /usr/share/nltk_data...\n",
      "[nltk_data]    |   Package snowball_data is already up-to-date!\n",
      "[nltk_data]    | Downloading package averaged_perceptron_tagger to\n",
      "[nltk_data]    |     /usr/share/nltk_data...\n",
      "[nltk_data]    |   Package averaged_perceptron_tagger is already up-\n",
      "[nltk_data]    |       to-date!\n",
      "[nltk_data]    | \n",
      "[nltk_data]  Done downloading collection popular\n"
     ]
    },
    {
     "data": {
      "text/plain": [
       "True"
      ]
     },
     "execution_count": 21,
     "metadata": {},
     "output_type": "execute_result"
    }
   ],
   "source": [
    "import nltk\n",
    "nltk.download(\"popular\")"
   ]
  },
  {
   "cell_type": "code",
   "execution_count": 22,
   "id": "e002c0ca",
   "metadata": {
    "execution": {
     "iopub.execute_input": "2023-02-07T04:17:22.973931Z",
     "iopub.status.busy": "2023-02-07T04:17:22.973416Z",
     "iopub.status.idle": "2023-02-07T04:17:23.041803Z",
     "shell.execute_reply": "2023-02-07T04:17:23.040494Z"
    },
    "papermill": {
     "duration": 0.087757,
     "end_time": "2023-02-07T04:17:23.044589",
     "exception": false,
     "start_time": "2023-02-07T04:17:22.956832",
     "status": "completed"
    },
    "tags": []
   },
   "outputs": [
    {
     "data": {
      "text/html": [
       "<div>\n",
       "<style scoped>\n",
       "    .dataframe tbody tr th:only-of-type {\n",
       "        vertical-align: middle;\n",
       "    }\n",
       "\n",
       "    .dataframe tbody tr th {\n",
       "        vertical-align: top;\n",
       "    }\n",
       "\n",
       "    .dataframe thead th {\n",
       "        text-align: right;\n",
       "    }\n",
       "</style>\n",
       "<table border=\"1\" class=\"dataframe\">\n",
       "  <thead>\n",
       "    <tr style=\"text-align: right;\">\n",
       "      <th></th>\n",
       "      <th>Tweets</th>\n",
       "      <th>word_count</th>\n",
       "      <th>char_count</th>\n",
       "      <th>avg_word</th>\n",
       "      <th>Tidy_Tweets</th>\n",
       "    </tr>\n",
       "  </thead>\n",
       "  <tbody>\n",
       "    <tr>\n",
       "      <th>0</th>\n",
       "      <td>@kunalb11 Im an alien</td>\n",
       "      <td>4</td>\n",
       "      <td>22</td>\n",
       "      <td>4.750000</td>\n",
       "      <td>alien</td>\n",
       "    </tr>\n",
       "    <tr>\n",
       "      <th>1</th>\n",
       "      <td>@ID_AA_Carmack Ray tracing on Cyberpunk with H...</td>\n",
       "      <td>13</td>\n",
       "      <td>82</td>\n",
       "      <td>5.384615</td>\n",
       "      <td>ray tracing cyberpunk hdr nextlevel tried</td>\n",
       "    </tr>\n",
       "    <tr>\n",
       "      <th>2</th>\n",
       "      <td>@joerogan @Spotify Great interview!</td>\n",
       "      <td>4</td>\n",
       "      <td>35</td>\n",
       "      <td>8.000000</td>\n",
       "      <td>great interview</td>\n",
       "    </tr>\n",
       "    <tr>\n",
       "      <th>3</th>\n",
       "      <td>@gtera27 Doge is underestimated</td>\n",
       "      <td>4</td>\n",
       "      <td>31</td>\n",
       "      <td>7.000000</td>\n",
       "      <td>doge underestimated</td>\n",
       "    </tr>\n",
       "    <tr>\n",
       "      <th>4</th>\n",
       "      <td>@teslacn Congratulations Tesla China for amazi...</td>\n",
       "      <td>17</td>\n",
       "      <td>104</td>\n",
       "      <td>5.176471</td>\n",
       "      <td>congratulations tesla china amazing execution ...</td>\n",
       "    </tr>\n",
       "    <tr>\n",
       "      <th>...</th>\n",
       "      <td>...</td>\n",
       "      <td>...</td>\n",
       "      <td>...</td>\n",
       "      <td>...</td>\n",
       "      <td>...</td>\n",
       "    </tr>\n",
       "    <tr>\n",
       "      <th>1994</th>\n",
       "      <td>@flcnhvy True, it sounds so surreal, but the n...</td>\n",
       "      <td>23</td>\n",
       "      <td>144</td>\n",
       "      <td>5.260870</td>\n",
       "      <td>true sounds surreal negative propaganda still ...</td>\n",
       "    </tr>\n",
       "    <tr>\n",
       "      <th>1995</th>\n",
       "      <td>@PPathole Make sure to read ur terms &amp;amp; con...</td>\n",
       "      <td>12</td>\n",
       "      <td>77</td>\n",
       "      <td>5.500000</td>\n",
       "      <td>make sure read ur terms amp conditions clickin...</td>\n",
       "    </tr>\n",
       "    <tr>\n",
       "      <th>1996</th>\n",
       "      <td>@TeslaGong @PPathole Samwise Gamgee</td>\n",
       "      <td>4</td>\n",
       "      <td>35</td>\n",
       "      <td>8.000000</td>\n",
       "      <td>samwise gamgee</td>\n",
       "    </tr>\n",
       "    <tr>\n",
       "      <th>1997</th>\n",
       "      <td>@PPathole Altho Dumb and Dumber is &lt;U+0001F525...</td>\n",
       "      <td>7</td>\n",
       "      <td>59</td>\n",
       "      <td>7.571429</td>\n",
       "      <td>altho dumb dumber</td>\n",
       "    </tr>\n",
       "    <tr>\n",
       "      <th>1998</th>\n",
       "      <td>Progress update August 28</td>\n",
       "      <td>4</td>\n",
       "      <td>25</td>\n",
       "      <td>5.500000</td>\n",
       "      <td>progress update august</td>\n",
       "    </tr>\n",
       "  </tbody>\n",
       "</table>\n",
       "<p>1995 rows × 5 columns</p>\n",
       "</div>"
      ],
      "text/plain": [
       "                                                 Tweets  word_count  \\\n",
       "0                                @kunalb11 Im an alien           4   \n",
       "1     @ID_AA_Carmack Ray tracing on Cyberpunk with H...          13   \n",
       "2                   @joerogan @Spotify Great interview!           4   \n",
       "3                       @gtera27 Doge is underestimated           4   \n",
       "4     @teslacn Congratulations Tesla China for amazi...          17   \n",
       "...                                                 ...         ...   \n",
       "1994  @flcnhvy True, it sounds so surreal, but the n...          23   \n",
       "1995  @PPathole Make sure to read ur terms &amp; con...          12   \n",
       "1996                @TeslaGong @PPathole Samwise Gamgee           4   \n",
       "1997  @PPathole Altho Dumb and Dumber is <U+0001F525...           7   \n",
       "1998                          Progress update August 28           4   \n",
       "\n",
       "      char_count  avg_word                                        Tidy_Tweets  \n",
       "0             22  4.750000                                              alien  \n",
       "1             82  5.384615          ray tracing cyberpunk hdr nextlevel tried  \n",
       "2             35  8.000000                                    great interview  \n",
       "3             31  7.000000                                doge underestimated  \n",
       "4            104  5.176471  congratulations tesla china amazing execution ...  \n",
       "...          ...       ...                                                ...  \n",
       "1994         144  5.260870  true sounds surreal negative propaganda still ...  \n",
       "1995          77  5.500000  make sure read ur terms amp conditions clickin...  \n",
       "1996          35  8.000000                                     samwise gamgee  \n",
       "1997          59  7.571429                                  altho dumb dumber  \n",
       "1998          25  5.500000                             progress update august  \n",
       "\n",
       "[1995 rows x 5 columns]"
      ]
     },
     "execution_count": 22,
     "metadata": {},
     "output_type": "execute_result"
    }
   ],
   "source": [
    "#removing stopwords\n",
    "from nltk.corpus import stopwords\n",
    "stop = stopwords.words('english')\n",
    "data['Tidy_Tweets'] = data['Tidy_Tweets'].apply(lambda x: \" \".join(x for x in x.split() if x not in stop))\n",
    "data\n"
   ]
  },
  {
   "cell_type": "code",
   "execution_count": 23,
   "id": "9966ee0c",
   "metadata": {
    "execution": {
     "iopub.execute_input": "2023-02-07T04:17:23.076803Z",
     "iopub.status.busy": "2023-02-07T04:17:23.076302Z",
     "iopub.status.idle": "2023-02-07T04:17:23.097386Z",
     "shell.execute_reply": "2023-02-07T04:17:23.095988Z"
    },
    "papermill": {
     "duration": 0.040517,
     "end_time": "2023-02-07T04:17:23.100105",
     "exception": false,
     "start_time": "2023-02-07T04:17:23.059588",
     "status": "completed"
    },
    "tags": []
   },
   "outputs": [
    {
     "data": {
      "text/plain": [
       "[WordList(['doge']), WordList(['underestimated'])]"
      ]
     },
     "execution_count": 23,
     "metadata": {},
     "output_type": "execute_result"
    }
   ],
   "source": [
    "TextBlob(data['Tidy_Tweets'][3]).ngrams(1)"
   ]
  },
  {
   "cell_type": "code",
   "execution_count": 24,
   "id": "5717d43d",
   "metadata": {
    "execution": {
     "iopub.execute_input": "2023-02-07T04:17:23.132160Z",
     "iopub.status.busy": "2023-02-07T04:17:23.131624Z",
     "iopub.status.idle": "2023-02-07T04:17:23.140601Z",
     "shell.execute_reply": "2023-02-07T04:17:23.139365Z"
    },
    "papermill": {
     "duration": 0.028245,
     "end_time": "2023-02-07T04:17:23.143416",
     "exception": false,
     "start_time": "2023-02-07T04:17:23.115171",
     "status": "completed"
    },
    "tags": []
   },
   "outputs": [
    {
     "data": {
      "text/plain": [
       "[WordList(['congratulations', 'tesla', 'china', 'amazing', 'execution']),\n",
       " WordList(['tesla', 'china', 'amazing', 'execution', 'last']),\n",
       " WordList(['china', 'amazing', 'execution', 'last', 'year']),\n",
       " WordList(['amazing', 'execution', 'last', 'year', 'next']),\n",
       " WordList(['execution', 'last', 'year', 'next', 'even'])]"
      ]
     },
     "execution_count": 24,
     "metadata": {},
     "output_type": "execute_result"
    }
   ],
   "source": [
    "TextBlob(data['Tidy_Tweets'][4]).ngrams(5)"
   ]
  },
  {
   "cell_type": "code",
   "execution_count": 25,
   "id": "7dea49bf",
   "metadata": {
    "execution": {
     "iopub.execute_input": "2023-02-07T04:17:23.175896Z",
     "iopub.status.busy": "2023-02-07T04:17:23.175424Z",
     "iopub.status.idle": "2023-02-07T04:17:23.192038Z",
     "shell.execute_reply": "2023-02-07T04:17:23.190879Z"
    },
    "papermill": {
     "duration": 0.035987,
     "end_time": "2023-02-07T04:17:23.194616",
     "exception": false,
     "start_time": "2023-02-07T04:17:23.158629",
     "status": "completed"
    },
    "tags": []
   },
   "outputs": [
    {
     "data": {
      "text/plain": [
       "amp         218\n",
       "rt          127\n",
       "tesla        96\n",
       "yes          86\n",
       "great        76\n",
       "haha         55\n",
       "good         51\n",
       "launch       49\n",
       "sure         43\n",
       "would        41\n",
       "yeah         41\n",
       "much         40\n",
       "dragon       39\n",
       "first        39\n",
       "one          39\n",
       "like         38\n",
       "spacex       35\n",
       "true         35\n",
       "probably     35\n",
       "make         33\n",
       "dtype: int64"
      ]
     },
     "execution_count": 25,
     "metadata": {},
     "output_type": "execute_result"
    }
   ],
   "source": [
    "#word frequency after removal of stopwords\n",
    "freq_Sw = pd.Series(' '.join(data['Tidy_Tweets']).split()).value_counts()[:20] # for top 20\n",
    "freq_Sw\n"
   ]
  },
  {
   "cell_type": "code",
   "execution_count": 26,
   "id": "a4cd35da",
   "metadata": {
    "execution": {
     "iopub.execute_input": "2023-02-07T04:17:23.227279Z",
     "iopub.status.busy": "2023-02-07T04:17:23.226720Z",
     "iopub.status.idle": "2023-02-07T04:17:23.277273Z",
     "shell.execute_reply": "2023-02-07T04:17:23.275795Z"
    },
    "papermill": {
     "duration": 0.071337,
     "end_time": "2023-02-07T04:17:23.281316",
     "exception": false,
     "start_time": "2023-02-07T04:17:23.209979",
     "status": "completed"
    },
    "tags": []
   },
   "outputs": [
    {
     "name": "stdout",
     "output_type": "stream",
     "text": [
      "       term  occurrences  frequency\n",
      "126     amp          218   0.021765\n",
      "2697     rt          127   0.012680\n",
      "3193  tesla           96   0.009585\n",
      "3621    yes           86   0.008586\n",
      "1361  great           76   0.007588\n"
     ]
    }
   ],
   "source": [
    "# count vectoriser tells the frequency of a word.\n",
    "from sklearn.feature_extraction.text import CountVectorizer\n",
    "vectorizer = CountVectorizer(min_df = 1, max_df = 0.9)\n",
    "X = vectorizer.fit_transform(data[\"Tidy_Tweets\"])\n",
    "word_freq_df = pd.DataFrame({'term': vectorizer.get_feature_names(), 'occurrences':np.asarray(X.sum(axis=0)).ravel().tolist()})\n",
    "word_freq_df['frequency'] = word_freq_df['occurrences']/np.sum(word_freq_df['occurrences'])\n",
    "print(word_freq_df.sort_values('occurrences',ascending = False).head())"
   ]
  },
  {
   "cell_type": "code",
   "execution_count": 27,
   "id": "fbc767cf",
   "metadata": {
    "execution": {
     "iopub.execute_input": "2023-02-07T04:17:23.316041Z",
     "iopub.status.busy": "2023-02-07T04:17:23.314719Z",
     "iopub.status.idle": "2023-02-07T04:17:24.091380Z",
     "shell.execute_reply": "2023-02-07T04:17:24.089863Z"
    },
    "papermill": {
     "duration": 0.796535,
     "end_time": "2023-02-07T04:17:24.094147",
     "exception": false,
     "start_time": "2023-02-07T04:17:23.297612",
     "status": "completed"
    },
    "tags": []
   },
   "outputs": [
    {
     "data": {
      "text/html": [
       "<div>\n",
       "<style scoped>\n",
       "    .dataframe tbody tr th:only-of-type {\n",
       "        vertical-align: middle;\n",
       "    }\n",
       "\n",
       "    .dataframe tbody tr th {\n",
       "        vertical-align: top;\n",
       "    }\n",
       "\n",
       "    .dataframe thead th {\n",
       "        text-align: right;\n",
       "    }\n",
       "</style>\n",
       "<table border=\"1\" class=\"dataframe\">\n",
       "  <thead>\n",
       "    <tr style=\"text-align: right;\">\n",
       "      <th></th>\n",
       "      <th>able</th>\n",
       "      <th>abort</th>\n",
       "      <th>absolutely</th>\n",
       "      <th>absurd</th>\n",
       "      <th>acceptable</th>\n",
       "      <th>access</th>\n",
       "      <th>accurate</th>\n",
       "      <th>achieve</th>\n",
       "      <th>active</th>\n",
       "      <th>actual</th>\n",
       "      <th>...</th>\n",
       "      <th>ya</th>\n",
       "      <th>yeah</th>\n",
       "      <th>year</th>\n",
       "      <th>years</th>\n",
       "      <th>yes</th>\n",
       "      <th>yesterday</th>\n",
       "      <th>yup</th>\n",
       "      <th>zero</th>\n",
       "      <th>zeroes</th>\n",
       "      <th>zone</th>\n",
       "    </tr>\n",
       "  </thead>\n",
       "  <tbody>\n",
       "    <tr>\n",
       "      <th>0</th>\n",
       "      <td>0.0</td>\n",
       "      <td>0.0</td>\n",
       "      <td>0.0</td>\n",
       "      <td>0.0</td>\n",
       "      <td>0.0</td>\n",
       "      <td>0.0</td>\n",
       "      <td>0.0</td>\n",
       "      <td>0.0</td>\n",
       "      <td>0.0</td>\n",
       "      <td>0.0</td>\n",
       "      <td>...</td>\n",
       "      <td>0.0</td>\n",
       "      <td>0.0</td>\n",
       "      <td>0.000000</td>\n",
       "      <td>0.0</td>\n",
       "      <td>0.0</td>\n",
       "      <td>0.0</td>\n",
       "      <td>0.0</td>\n",
       "      <td>0.0</td>\n",
       "      <td>0.0</td>\n",
       "      <td>0.0</td>\n",
       "    </tr>\n",
       "    <tr>\n",
       "      <th>1</th>\n",
       "      <td>0.0</td>\n",
       "      <td>0.0</td>\n",
       "      <td>0.0</td>\n",
       "      <td>0.0</td>\n",
       "      <td>0.0</td>\n",
       "      <td>0.0</td>\n",
       "      <td>0.0</td>\n",
       "      <td>0.0</td>\n",
       "      <td>0.0</td>\n",
       "      <td>0.0</td>\n",
       "      <td>...</td>\n",
       "      <td>0.0</td>\n",
       "      <td>0.0</td>\n",
       "      <td>0.000000</td>\n",
       "      <td>0.0</td>\n",
       "      <td>0.0</td>\n",
       "      <td>0.0</td>\n",
       "      <td>0.0</td>\n",
       "      <td>0.0</td>\n",
       "      <td>0.0</td>\n",
       "      <td>0.0</td>\n",
       "    </tr>\n",
       "    <tr>\n",
       "      <th>2</th>\n",
       "      <td>0.0</td>\n",
       "      <td>0.0</td>\n",
       "      <td>0.0</td>\n",
       "      <td>0.0</td>\n",
       "      <td>0.0</td>\n",
       "      <td>0.0</td>\n",
       "      <td>0.0</td>\n",
       "      <td>0.0</td>\n",
       "      <td>0.0</td>\n",
       "      <td>0.0</td>\n",
       "      <td>...</td>\n",
       "      <td>0.0</td>\n",
       "      <td>0.0</td>\n",
       "      <td>0.000000</td>\n",
       "      <td>0.0</td>\n",
       "      <td>0.0</td>\n",
       "      <td>0.0</td>\n",
       "      <td>0.0</td>\n",
       "      <td>0.0</td>\n",
       "      <td>0.0</td>\n",
       "      <td>0.0</td>\n",
       "    </tr>\n",
       "    <tr>\n",
       "      <th>3</th>\n",
       "      <td>0.0</td>\n",
       "      <td>0.0</td>\n",
       "      <td>0.0</td>\n",
       "      <td>0.0</td>\n",
       "      <td>0.0</td>\n",
       "      <td>0.0</td>\n",
       "      <td>0.0</td>\n",
       "      <td>0.0</td>\n",
       "      <td>0.0</td>\n",
       "      <td>0.0</td>\n",
       "      <td>...</td>\n",
       "      <td>0.0</td>\n",
       "      <td>0.0</td>\n",
       "      <td>0.000000</td>\n",
       "      <td>0.0</td>\n",
       "      <td>0.0</td>\n",
       "      <td>0.0</td>\n",
       "      <td>0.0</td>\n",
       "      <td>0.0</td>\n",
       "      <td>0.0</td>\n",
       "      <td>0.0</td>\n",
       "    </tr>\n",
       "    <tr>\n",
       "      <th>4</th>\n",
       "      <td>0.0</td>\n",
       "      <td>0.0</td>\n",
       "      <td>0.0</td>\n",
       "      <td>0.0</td>\n",
       "      <td>0.0</td>\n",
       "      <td>0.0</td>\n",
       "      <td>0.0</td>\n",
       "      <td>0.0</td>\n",
       "      <td>0.0</td>\n",
       "      <td>0.0</td>\n",
       "      <td>...</td>\n",
       "      <td>0.0</td>\n",
       "      <td>0.0</td>\n",
       "      <td>0.404265</td>\n",
       "      <td>0.0</td>\n",
       "      <td>0.0</td>\n",
       "      <td>0.0</td>\n",
       "      <td>0.0</td>\n",
       "      <td>0.0</td>\n",
       "      <td>0.0</td>\n",
       "      <td>0.0</td>\n",
       "    </tr>\n",
       "    <tr>\n",
       "      <th>5</th>\n",
       "      <td>0.0</td>\n",
       "      <td>0.0</td>\n",
       "      <td>0.0</td>\n",
       "      <td>0.0</td>\n",
       "      <td>0.0</td>\n",
       "      <td>0.0</td>\n",
       "      <td>0.0</td>\n",
       "      <td>0.0</td>\n",
       "      <td>0.0</td>\n",
       "      <td>0.0</td>\n",
       "      <td>...</td>\n",
       "      <td>0.0</td>\n",
       "      <td>0.0</td>\n",
       "      <td>0.526381</td>\n",
       "      <td>0.0</td>\n",
       "      <td>0.0</td>\n",
       "      <td>0.0</td>\n",
       "      <td>0.0</td>\n",
       "      <td>0.0</td>\n",
       "      <td>0.0</td>\n",
       "      <td>0.0</td>\n",
       "    </tr>\n",
       "    <tr>\n",
       "      <th>6</th>\n",
       "      <td>0.0</td>\n",
       "      <td>0.0</td>\n",
       "      <td>0.0</td>\n",
       "      <td>0.0</td>\n",
       "      <td>0.0</td>\n",
       "      <td>0.0</td>\n",
       "      <td>0.0</td>\n",
       "      <td>0.0</td>\n",
       "      <td>0.0</td>\n",
       "      <td>0.0</td>\n",
       "      <td>...</td>\n",
       "      <td>0.0</td>\n",
       "      <td>0.0</td>\n",
       "      <td>0.000000</td>\n",
       "      <td>0.0</td>\n",
       "      <td>0.0</td>\n",
       "      <td>0.0</td>\n",
       "      <td>0.0</td>\n",
       "      <td>0.0</td>\n",
       "      <td>0.0</td>\n",
       "      <td>0.0</td>\n",
       "    </tr>\n",
       "    <tr>\n",
       "      <th>7</th>\n",
       "      <td>0.0</td>\n",
       "      <td>0.0</td>\n",
       "      <td>0.0</td>\n",
       "      <td>0.0</td>\n",
       "      <td>0.0</td>\n",
       "      <td>0.0</td>\n",
       "      <td>0.0</td>\n",
       "      <td>0.0</td>\n",
       "      <td>0.0</td>\n",
       "      <td>0.0</td>\n",
       "      <td>...</td>\n",
       "      <td>0.0</td>\n",
       "      <td>0.0</td>\n",
       "      <td>0.000000</td>\n",
       "      <td>0.0</td>\n",
       "      <td>0.0</td>\n",
       "      <td>0.0</td>\n",
       "      <td>0.0</td>\n",
       "      <td>0.0</td>\n",
       "      <td>0.0</td>\n",
       "      <td>0.0</td>\n",
       "    </tr>\n",
       "    <tr>\n",
       "      <th>8</th>\n",
       "      <td>0.0</td>\n",
       "      <td>0.0</td>\n",
       "      <td>0.0</td>\n",
       "      <td>0.0</td>\n",
       "      <td>0.0</td>\n",
       "      <td>0.0</td>\n",
       "      <td>0.0</td>\n",
       "      <td>0.0</td>\n",
       "      <td>0.0</td>\n",
       "      <td>0.0</td>\n",
       "      <td>...</td>\n",
       "      <td>0.0</td>\n",
       "      <td>0.0</td>\n",
       "      <td>0.000000</td>\n",
       "      <td>0.0</td>\n",
       "      <td>0.0</td>\n",
       "      <td>0.0</td>\n",
       "      <td>0.0</td>\n",
       "      <td>0.0</td>\n",
       "      <td>0.0</td>\n",
       "      <td>0.0</td>\n",
       "    </tr>\n",
       "    <tr>\n",
       "      <th>9</th>\n",
       "      <td>0.0</td>\n",
       "      <td>0.0</td>\n",
       "      <td>0.0</td>\n",
       "      <td>0.0</td>\n",
       "      <td>0.0</td>\n",
       "      <td>0.0</td>\n",
       "      <td>0.0</td>\n",
       "      <td>0.0</td>\n",
       "      <td>0.0</td>\n",
       "      <td>0.0</td>\n",
       "      <td>...</td>\n",
       "      <td>0.0</td>\n",
       "      <td>0.0</td>\n",
       "      <td>0.000000</td>\n",
       "      <td>0.0</td>\n",
       "      <td>0.0</td>\n",
       "      <td>0.0</td>\n",
       "      <td>0.0</td>\n",
       "      <td>0.0</td>\n",
       "      <td>0.0</td>\n",
       "      <td>0.0</td>\n",
       "    </tr>\n",
       "  </tbody>\n",
       "</table>\n",
       "<p>10 rows × 1000 columns</p>\n",
       "</div>"
      ],
      "text/plain": [
       "   able  abort  absolutely  absurd  acceptable  access  accurate  achieve  \\\n",
       "0   0.0    0.0         0.0     0.0         0.0     0.0       0.0      0.0   \n",
       "1   0.0    0.0         0.0     0.0         0.0     0.0       0.0      0.0   \n",
       "2   0.0    0.0         0.0     0.0         0.0     0.0       0.0      0.0   \n",
       "3   0.0    0.0         0.0     0.0         0.0     0.0       0.0      0.0   \n",
       "4   0.0    0.0         0.0     0.0         0.0     0.0       0.0      0.0   \n",
       "5   0.0    0.0         0.0     0.0         0.0     0.0       0.0      0.0   \n",
       "6   0.0    0.0         0.0     0.0         0.0     0.0       0.0      0.0   \n",
       "7   0.0    0.0         0.0     0.0         0.0     0.0       0.0      0.0   \n",
       "8   0.0    0.0         0.0     0.0         0.0     0.0       0.0      0.0   \n",
       "9   0.0    0.0         0.0     0.0         0.0     0.0       0.0      0.0   \n",
       "\n",
       "   active  actual  ...   ya  yeah      year  years  yes  yesterday  yup  zero  \\\n",
       "0     0.0     0.0  ...  0.0   0.0  0.000000    0.0  0.0        0.0  0.0   0.0   \n",
       "1     0.0     0.0  ...  0.0   0.0  0.000000    0.0  0.0        0.0  0.0   0.0   \n",
       "2     0.0     0.0  ...  0.0   0.0  0.000000    0.0  0.0        0.0  0.0   0.0   \n",
       "3     0.0     0.0  ...  0.0   0.0  0.000000    0.0  0.0        0.0  0.0   0.0   \n",
       "4     0.0     0.0  ...  0.0   0.0  0.404265    0.0  0.0        0.0  0.0   0.0   \n",
       "5     0.0     0.0  ...  0.0   0.0  0.526381    0.0  0.0        0.0  0.0   0.0   \n",
       "6     0.0     0.0  ...  0.0   0.0  0.000000    0.0  0.0        0.0  0.0   0.0   \n",
       "7     0.0     0.0  ...  0.0   0.0  0.000000    0.0  0.0        0.0  0.0   0.0   \n",
       "8     0.0     0.0  ...  0.0   0.0  0.000000    0.0  0.0        0.0  0.0   0.0   \n",
       "9     0.0     0.0  ...  0.0   0.0  0.000000    0.0  0.0        0.0  0.0   0.0   \n",
       "\n",
       "   zeroes  zone  \n",
       "0     0.0   0.0  \n",
       "1     0.0   0.0  \n",
       "2     0.0   0.0  \n",
       "3     0.0   0.0  \n",
       "4     0.0   0.0  \n",
       "5     0.0   0.0  \n",
       "6     0.0   0.0  \n",
       "7     0.0   0.0  \n",
       "8     0.0   0.0  \n",
       "9     0.0   0.0  \n",
       "\n",
       "[10 rows x 1000 columns]"
      ]
     },
     "execution_count": 27,
     "metadata": {},
     "output_type": "execute_result"
    }
   ],
   "source": [
    "#TFIDF - Term frequency inverse Document Frequencyt\n",
    "from sklearn.feature_extraction.text import TfidfVectorizer\n",
    "vectorizer = TfidfVectorizer(stop_words='english', max_features= 1000, max_df = 0.5, smooth_idf=True) #keep top 1000 words\n",
    "doc_vec = vectorizer.fit_transform(data[\"Tidy_Tweets\"])\n",
    "names_features = vectorizer.get_feature_names()\n",
    "dense = doc_vec.todense()\n",
    "denselist = dense.tolist()\n",
    "df = pd.DataFrame(denselist, columns = names_features)\n",
    "df.head(10)"
   ]
  },
  {
   "cell_type": "code",
   "execution_count": 28,
   "id": "f4bcae5a",
   "metadata": {
    "execution": {
     "iopub.execute_input": "2023-02-07T04:17:24.129383Z",
     "iopub.status.busy": "2023-02-07T04:17:24.128849Z",
     "iopub.status.idle": "2023-02-07T04:17:24.136916Z",
     "shell.execute_reply": "2023-02-07T04:17:24.135532Z"
    },
    "papermill": {
     "duration": 0.029236,
     "end_time": "2023-02-07T04:17:24.139969",
     "exception": false,
     "start_time": "2023-02-07T04:17:24.110733",
     "status": "completed"
    },
    "tags": []
   },
   "outputs": [],
   "source": [
    "#Bi-gram\n",
    "def get_top_n2_words(corpus, n=None):\n",
    "    vec1 = CountVectorizer(ngram_range=(2,2),  #for tri-gram, put ngram_range=(3,3)\n",
    "            max_features=2000).fit(corpus)\n",
    "    bag_of_words = vec1.transform(corpus)\n",
    "    sum_words = bag_of_words.sum(axis=0) \n",
    "    words_freq = [(word, sum_words[0, idx]) for word, idx in     \n",
    "                  vec1.vocabulary_.items()]\n",
    "    words_freq =sorted(words_freq, key = lambda x: x[1], \n",
    "                reverse=True)\n",
    "    return words_freq[:n]"
   ]
  },
  {
   "cell_type": "code",
   "execution_count": 29,
   "id": "853e590a",
   "metadata": {
    "execution": {
     "iopub.execute_input": "2023-02-07T04:17:24.174760Z",
     "iopub.status.busy": "2023-02-07T04:17:24.173512Z",
     "iopub.status.idle": "2023-02-07T04:17:24.279390Z",
     "shell.execute_reply": "2023-02-07T04:17:24.278115Z"
    },
    "papermill": {
     "duration": 0.125762,
     "end_time": "2023-02-07T04:17:24.281883",
     "exception": false,
     "start_time": "2023-02-07T04:17:24.156121",
     "status": "completed"
    },
    "tags": []
   },
   "outputs": [
    {
     "data": {
      "text/html": [
       "<div>\n",
       "<style scoped>\n",
       "    .dataframe tbody tr th:only-of-type {\n",
       "        vertical-align: middle;\n",
       "    }\n",
       "\n",
       "    .dataframe tbody tr th {\n",
       "        vertical-align: top;\n",
       "    }\n",
       "\n",
       "    .dataframe thead th {\n",
       "        text-align: right;\n",
       "    }\n",
       "</style>\n",
       "<table border=\"1\" class=\"dataframe\">\n",
       "  <thead>\n",
       "    <tr style=\"text-align: right;\">\n",
       "      <th></th>\n",
       "      <th>Bi-gram</th>\n",
       "      <th>Freq</th>\n",
       "    </tr>\n",
       "  </thead>\n",
       "  <tbody>\n",
       "    <tr>\n",
       "      <th>0</th>\n",
       "      <td>rt falcon</td>\n",
       "      <td>17</td>\n",
       "    </tr>\n",
       "    <tr>\n",
       "      <th>1</th>\n",
       "      <td>crew dragon</td>\n",
       "      <td>13</td>\n",
       "    </tr>\n",
       "    <tr>\n",
       "      <th>2</th>\n",
       "      <td>pretty much</td>\n",
       "      <td>12</td>\n",
       "    </tr>\n",
       "    <tr>\n",
       "      <th>3</th>\n",
       "      <td>giga berlin</td>\n",
       "      <td>11</td>\n",
       "    </tr>\n",
       "    <tr>\n",
       "      <th>4</th>\n",
       "      <td>first stage</td>\n",
       "      <td>10</td>\n",
       "    </tr>\n",
       "  </tbody>\n",
       "</table>\n",
       "</div>"
      ],
      "text/plain": [
       "       Bi-gram  Freq\n",
       "0    rt falcon    17\n",
       "1  crew dragon    13\n",
       "2  pretty much    12\n",
       "3  giga berlin    11\n",
       "4  first stage    10"
      ]
     },
     "execution_count": 29,
     "metadata": {},
     "output_type": "execute_result"
    }
   ],
   "source": [
    "top2_words = get_top_n2_words(data[\"Tidy_Tweets\"], n=200) #top 200\n",
    "top2_df = pd.DataFrame(top2_words)\n",
    "top2_df.columns=[\"Bi-gram\", \"Freq\"]\n",
    "top2_df.head()"
   ]
  },
  {
   "cell_type": "code",
   "execution_count": 30,
   "id": "0ffa3fe9",
   "metadata": {
    "execution": {
     "iopub.execute_input": "2023-02-07T04:17:24.316470Z",
     "iopub.status.busy": "2023-02-07T04:17:24.315942Z",
     "iopub.status.idle": "2023-02-07T04:17:24.964705Z",
     "shell.execute_reply": "2023-02-07T04:17:24.963235Z"
    },
    "papermill": {
     "duration": 0.669892,
     "end_time": "2023-02-07T04:17:24.967946",
     "exception": false,
     "start_time": "2023-02-07T04:17:24.298054",
     "status": "completed"
    },
    "tags": []
   },
   "outputs": [
    {
     "data": {
      "application/javascript": [
       "\n",
       "        if (window._pyforest_update_imports_cell) { window._pyforest_update_imports_cell('import matplotlib.pyplot as plt'); }\n",
       "    "
      ],
      "text/plain": [
       "<IPython.core.display.Javascript object>"
      ]
     },
     "metadata": {},
     "output_type": "display_data"
    },
    {
     "data": {
      "application/javascript": [
       "\n",
       "        if (window._pyforest_update_imports_cell) { window._pyforest_update_imports_cell('import seaborn as sns\\nimport matplotlib.pyplot as plt'); }\n",
       "    "
      ],
      "text/plain": [
       "<IPython.core.display.Javascript object>"
      ]
     },
     "metadata": {},
     "output_type": "display_data"
    },
    {
     "data": {
      "text/plain": [
       "[Text(0, 0, 'rt falcon'),\n",
       " Text(1, 0, 'crew dragon'),\n",
       " Text(2, 0, 'pretty much'),\n",
       " Text(3, 0, 'giga berlin'),\n",
       " Text(4, 0, 'first stage'),\n",
       " Text(5, 0, 'falcon first'),\n",
       " Text(6, 0, 'next week'),\n",
       " Text(7, 0, 'coming soon'),\n",
       " Text(8, 0, 'static fire'),\n",
       " Text(9, 0, 'next year'),\n",
       " Text(10, 0, 'falcon launch'),\n",
       " Text(11, 0, 'great game'),\n",
       " Text(12, 0, 'next month'),\n",
       " Text(13, 0, 'course still'),\n",
       " Text(14, 0, 'still love'),\n",
       " Text(15, 0, 'one day'),\n",
       " Text(16, 0, 'first operational'),\n",
       " Text(17, 0, 'stage landed'),\n",
       " Text(18, 0, 'rt liftoff'),\n",
       " Text(19, 0, 'good point')]"
      ]
     },
     "execution_count": 30,
     "metadata": {},
     "output_type": "execute_result"
    },
    {
     "data": {
      "image/png": "[encoded data removed]",
      "text/plain": [
       "<Figure size 1800x504 with 1 Axes>"
      ]
     },
     "metadata": {
      "needs_background": "light"
     },
     "output_type": "display_data"
    }
   ],
   "source": [
    "top20_bigram = top2_df.iloc[0:20,:]\n",
    "fig = plt.figure(figsize = (25, 7))\n",
    "plot=sns.barplot(x=top20_bigram[\"Bi-gram\"],y=top20_bigram[\"Freq\"])\n",
    "plot.set_xticklabels(rotation=45,labels = top20_bigram[\"Bi-gram\"])"
   ]
  },
  {
   "cell_type": "code",
   "execution_count": 31,
   "id": "dbea8e46",
   "metadata": {
    "execution": {
     "iopub.execute_input": "2023-02-07T04:17:25.005332Z",
     "iopub.status.busy": "2023-02-07T04:17:25.004805Z",
     "iopub.status.idle": "2023-02-07T04:17:25.012674Z",
     "shell.execute_reply": "2023-02-07T04:17:25.011352Z"
    },
    "papermill": {
     "duration": 0.029595,
     "end_time": "2023-02-07T04:17:25.015343",
     "exception": false,
     "start_time": "2023-02-07T04:17:24.985748",
     "status": "completed"
    },
    "tags": []
   },
   "outputs": [],
   "source": [
    "#Tri-gram\n",
    "def get_top_n3_words(corpus, n=None):\n",
    "    vec1 = CountVectorizer(ngram_range=(3,3), \n",
    "           max_features=2000).fit(corpus)\n",
    "    bag_of_words = vec1.transform(corpus)\n",
    "    sum_words = bag_of_words.sum(axis=0) \n",
    "    words_freq = [(word, sum_words[0, idx]) for word, idx in     \n",
    "                  vec1.vocabulary_.items()]\n",
    "    words_freq =sorted(words_freq, key = lambda x: x[1], \n",
    "                reverse=True)\n",
    "    return words_freq[:n]"
   ]
  },
  {
   "cell_type": "code",
   "execution_count": 32,
   "id": "1a72f33f",
   "metadata": {
    "execution": {
     "iopub.execute_input": "2023-02-07T04:17:25.053397Z",
     "iopub.status.busy": "2023-02-07T04:17:25.052527Z",
     "iopub.status.idle": "2023-02-07T04:17:25.351420Z",
     "shell.execute_reply": "2023-02-07T04:17:25.350111Z"
    },
    "papermill": {
     "duration": 0.320988,
     "end_time": "2023-02-07T04:17:25.354223",
     "exception": false,
     "start_time": "2023-02-07T04:17:25.033235",
     "status": "completed"
    },
    "tags": []
   },
   "outputs": [
    {
     "data": {
      "text/html": [
       "<div>\n",
       "<style scoped>\n",
       "    .dataframe tbody tr th:only-of-type {\n",
       "        vertical-align: middle;\n",
       "    }\n",
       "\n",
       "    .dataframe tbody tr th {\n",
       "        vertical-align: top;\n",
       "    }\n",
       "\n",
       "    .dataframe thead th {\n",
       "        text-align: right;\n",
       "    }\n",
       "</style>\n",
       "<table border=\"1\" class=\"dataframe\">\n",
       "  <thead>\n",
       "    <tr style=\"text-align: right;\">\n",
       "      <th></th>\n",
       "      <th>Tri-gram</th>\n",
       "      <th>Freq</th>\n",
       "    </tr>\n",
       "  </thead>\n",
       "  <tbody>\n",
       "    <tr>\n",
       "      <th>0</th>\n",
       "      <td>falcon first stage</td>\n",
       "      <td>9</td>\n",
       "    </tr>\n",
       "    <tr>\n",
       "      <th>1</th>\n",
       "      <td>rt falcon first</td>\n",
       "      <td>8</td>\n",
       "    </tr>\n",
       "    <tr>\n",
       "      <th>2</th>\n",
       "      <td>course still love</td>\n",
       "      <td>7</td>\n",
       "    </tr>\n",
       "    <tr>\n",
       "      <th>3</th>\n",
       "      <td>first stage landed</td>\n",
       "      <td>6</td>\n",
       "    </tr>\n",
       "    <tr>\n",
       "      <th>4</th>\n",
       "      <td>still love droneship</td>\n",
       "      <td>5</td>\n",
       "    </tr>\n",
       "    <tr>\n",
       "      <th>...</th>\n",
       "      <td>...</td>\n",
       "      <td>...</td>\n",
       "    </tr>\n",
       "    <tr>\n",
       "      <th>195</th>\n",
       "      <td>passed initial pressure</td>\n",
       "      <td>1</td>\n",
       "    </tr>\n",
       "    <tr>\n",
       "      <th>196</th>\n",
       "      <td>marvin martian helm</td>\n",
       "      <td>1</td>\n",
       "    </tr>\n",
       "    <tr>\n",
       "      <th>197</th>\n",
       "      <td>martian helm dog</td>\n",
       "      <td>1</td>\n",
       "    </tr>\n",
       "    <tr>\n",
       "      <th>198</th>\n",
       "      <td>public hamstring starlink</td>\n",
       "      <td>1</td>\n",
       "    </tr>\n",
       "    <tr>\n",
       "      <th>199</th>\n",
       "      <td>today amazon satellite</td>\n",
       "      <td>1</td>\n",
       "    </tr>\n",
       "  </tbody>\n",
       "</table>\n",
       "<p>200 rows × 2 columns</p>\n",
       "</div>"
      ],
      "text/plain": [
       "                      Tri-gram  Freq\n",
       "0           falcon first stage     9\n",
       "1              rt falcon first     8\n",
       "2            course still love     7\n",
       "3           first stage landed     6\n",
       "4         still love droneship     5\n",
       "..                         ...   ...\n",
       "195    passed initial pressure     1\n",
       "196        marvin martian helm     1\n",
       "197           martian helm dog     1\n",
       "198  public hamstring starlink     1\n",
       "199     today amazon satellite     1\n",
       "\n",
       "[200 rows x 2 columns]"
      ]
     },
     "execution_count": 32,
     "metadata": {},
     "output_type": "execute_result"
    }
   ],
   "source": [
    "top3_words = get_top_n3_words(data[\"Tidy_Tweets\"], n=200)\n",
    "top3_df = pd.DataFrame(top3_words)\n",
    "top3_df.columns=[\"Tri-gram\", \"Freq\"]\n",
    "top3_df"
   ]
  },
  {
   "cell_type": "code",
   "execution_count": 33,
   "id": "33b501ff",
   "metadata": {
    "execution": {
     "iopub.execute_input": "2023-02-07T04:17:25.391683Z",
     "iopub.status.busy": "2023-02-07T04:17:25.391182Z",
     "iopub.status.idle": "2023-02-07T04:17:25.794805Z",
     "shell.execute_reply": "2023-02-07T04:17:25.793208Z"
    },
    "papermill": {
     "duration": 0.426101,
     "end_time": "2023-02-07T04:17:25.797777",
     "exception": false,
     "start_time": "2023-02-07T04:17:25.371676",
     "status": "completed"
    },
    "tags": []
   },
   "outputs": [
    {
     "data": {
      "application/javascript": [
       "\n",
       "        if (window._pyforest_update_imports_cell) { window._pyforest_update_imports_cell('import seaborn as sns\\nimport matplotlib.pyplot as plt'); }\n",
       "    "
      ],
      "text/plain": [
       "<IPython.core.display.Javascript object>"
      ]
     },
     "metadata": {},
     "output_type": "display_data"
    },
    {
     "data": {
      "application/javascript": [
       "\n",
       "        if (window._pyforest_update_imports_cell) { window._pyforest_update_imports_cell('import seaborn as sns\\nimport matplotlib.pyplot as plt'); }\n",
       "    "
      ],
      "text/plain": [
       "<IPython.core.display.Javascript object>"
      ]
     },
     "metadata": {},
     "output_type": "display_data"
    },
    {
     "data": {
      "text/plain": [
       "[Text(0, 0, 'falcon first stage'),\n",
       " Text(1, 0, 'rt falcon first'),\n",
       " Text(2, 0, 'course still love'),\n",
       " Text(3, 0, 'first stage landed'),\n",
       " Text(4, 0, 'still love droneship'),\n",
       " Text(5, 0, 'dragon first operational'),\n",
       " Text(6, 0, 'first operational mission'),\n",
       " Text(7, 0, 'rt falcon launches'),\n",
       " Text(8, 0, 'landed course still'),\n",
       " Text(9, 0, 'crew dragon first'),\n",
       " Text(10, 0, 'entertaining outcome likely'),\n",
       " Text(11, 0, 'falcon launches starlink'),\n",
       " Text(12, 0, 'rt watch falcon'),\n",
       " Text(13, 0, 'watch falcon launch'),\n",
       " Text(14, 0, 'stage landed course'),\n",
       " Text(15, 0, 'rt crew dragon'),\n",
       " Text(16, 0, 'heard name years'),\n",
       " Text(17, 0, 'rt falcon launch'),\n",
       " Text(18, 0, 'launches starlink satellites'),\n",
       " Text(19, 0, 'starlink satellites orbit')]"
      ]
     },
     "execution_count": 33,
     "metadata": {},
     "output_type": "execute_result"
    },
    {
     "data": {
      "image/png": "[encoded data removed]",
      "text/plain": [
       "<Figure size 1800x504 with 1 Axes>"
      ]
     },
     "metadata": {
      "needs_background": "light"
     },
     "output_type": "display_data"
    }
   ],
   "source": [
    "#Tri-gram plot\n",
    "top20_trigram = top3_df.iloc[0:20,:]\n",
    "fig = plt.figure(figsize = (25, 7))\n",
    "plot=sns.barplot(x=top20_trigram[\"Tri-gram\"],y=top20_trigram[\"Freq\"])\n",
    "plot.set_xticklabels(rotation=45,labels = top20_trigram[\"Tri-gram\"])"
   ]
  },
  {
   "cell_type": "code",
   "execution_count": 34,
   "id": "39ea653d",
   "metadata": {
    "execution": {
     "iopub.execute_input": "2023-02-07T04:17:25.837800Z",
     "iopub.status.busy": "2023-02-07T04:17:25.837377Z",
     "iopub.status.idle": "2023-02-07T04:17:25.846849Z",
     "shell.execute_reply": "2023-02-07T04:17:25.845366Z"
    },
    "papermill": {
     "duration": 0.032703,
     "end_time": "2023-02-07T04:17:25.849559",
     "exception": false,
     "start_time": "2023-02-07T04:17:25.816856",
     "status": "completed"
    },
    "tags": []
   },
   "outputs": [
    {
     "data": {
      "text/plain": [
       "'alien ray tracing cyberpunk hdr nextlevel tried great interview doge underestimated congratulations tesla china amazing execution last year next even happy new year ox frodo underdoge thought would fail haha thanks indeed tweets definitely represent realworld time allocation entertaining outcome likely sent agree clubhouse  getting real bought dogecoin lil x toddler hodler definitely issues sentencing seems bit high thanks fixing please unlock account  true power haha crypto wallet give private keys avoided costs app sucks rt nasa selected falcon heavy launch first two elements lunar gateway together one mission yes predict cash flow reasonably well starlink ipo starlink staggeringly difficult technical amp economic endeavor however spacex needs pass deep chasm negative cash flow next year lowest cost per ton carbon sequestered net value product made must scalable g meant price countries difference taxes amp shipping intended earth may ideas apply mars  xprize team manage carbon capture prize everyone tesla receives stock comp stockoptions take table missing back work go seem bit high doge appears inflationary meaningfully fixed coins per unit time whereas wow orbital launch tower stack enough raptors orbit booster improve ship amp booster mass back work tonight ð ðogecoin instructional video people spoken cute extremely misleading image reflect true time cost people rain amp pain let doge hodl rainforests finally come fun crypto simplicity genius yup  true  easy two decades intense work look old notes emails texts yes lessons learned earth mars time tell story tesla amp spacex read great second last kingdom heard name years dogecake yolt damian yeah sure great thing restaurants get hang strangers sjm future currency earth scratch much wow  destiny franz essential said ship landing burn clear solution greate still use hot gas maneuvering rcs thrusters higher isp intuitively would seem turbopumpfed raptors mu yes rt falcon launch spherex mission collect data million '"
      ]
     },
     "execution_count": 34,
     "metadata": {},
     "output_type": "execute_result"
    }
   ],
   "source": [
    "string_total = \" \".join(data[\"Tidy_Tweets\"])\n",
    "string_total[:2000]"
   ]
  },
  {
   "cell_type": "code",
   "execution_count": 35,
   "id": "a88d7174",
   "metadata": {
    "execution": {
     "iopub.execute_input": "2023-02-07T04:17:25.890468Z",
     "iopub.status.busy": "2023-02-07T04:17:25.890017Z",
     "iopub.status.idle": "2023-02-07T04:17:25.895653Z",
     "shell.execute_reply": "2023-02-07T04:17:25.894473Z"
    },
    "papermill": {
     "duration": 0.029612,
     "end_time": "2023-02-07T04:17:25.898251",
     "exception": false,
     "start_time": "2023-02-07T04:17:25.868639",
     "status": "completed"
    },
    "tags": []
   },
   "outputs": [],
   "source": [
    "def fetch_sentiment_using_textblob(text):\n",
    "    analysis = TextBlob(text)\n",
    "    return 'positive' if analysis.sentiment.polarity >= 0 else 'negative'"
   ]
  },
  {
   "cell_type": "code",
   "execution_count": 36,
   "id": "be1a542b",
   "metadata": {
    "execution": {
     "iopub.execute_input": "2023-02-07T04:17:25.937834Z",
     "iopub.status.busy": "2023-02-07T04:17:25.937404Z",
     "iopub.status.idle": "2023-02-07T04:17:26.333958Z",
     "shell.execute_reply": "2023-02-07T04:17:26.332215Z"
    },
    "papermill": {
     "duration": 0.420159,
     "end_time": "2023-02-07T04:17:26.337260",
     "exception": false,
     "start_time": "2023-02-07T04:17:25.917101",
     "status": "completed"
    },
    "tags": []
   },
   "outputs": [
    {
     "data": {
      "text/html": [
       "<div>\n",
       "<style scoped>\n",
       "    .dataframe tbody tr th:only-of-type {\n",
       "        vertical-align: middle;\n",
       "    }\n",
       "\n",
       "    .dataframe tbody tr th {\n",
       "        vertical-align: top;\n",
       "    }\n",
       "\n",
       "    .dataframe thead th {\n",
       "        text-align: right;\n",
       "    }\n",
       "</style>\n",
       "<table border=\"1\" class=\"dataframe\">\n",
       "  <thead>\n",
       "    <tr style=\"text-align: right;\">\n",
       "      <th></th>\n",
       "      <th>Tidy_Tweets</th>\n",
       "    </tr>\n",
       "  </thead>\n",
       "  <tbody>\n",
       "    <tr>\n",
       "      <th>positive</th>\n",
       "      <td>1795</td>\n",
       "    </tr>\n",
       "    <tr>\n",
       "      <th>negative</th>\n",
       "      <td>200</td>\n",
       "    </tr>\n",
       "  </tbody>\n",
       "</table>\n",
       "</div>"
      ],
      "text/plain": [
       "          Tidy_Tweets\n",
       "positive         1795\n",
       "negative          200"
      ]
     },
     "execution_count": 36,
     "metadata": {},
     "output_type": "execute_result"
    }
   ],
   "source": [
    "fetch_sentiment_using_textblob = data.Tidy_Tweets.apply(lambda tweet: fetch_sentiment_using_textblob(tweet))\n",
    "pd.DataFrame(fetch_sentiment_using_textblob.value_counts())"
   ]
  },
  {
   "cell_type": "code",
   "execution_count": 37,
   "id": "b07c5813",
   "metadata": {
    "execution": {
     "iopub.execute_input": "2023-02-07T04:17:26.378642Z",
     "iopub.status.busy": "2023-02-07T04:17:26.378161Z",
     "iopub.status.idle": "2023-02-07T04:17:26.396944Z",
     "shell.execute_reply": "2023-02-07T04:17:26.394918Z"
    },
    "papermill": {
     "duration": 0.04248,
     "end_time": "2023-02-07T04:17:26.399822",
     "exception": false,
     "start_time": "2023-02-07T04:17:26.357342",
     "status": "completed"
    },
    "tags": []
   },
   "outputs": [
    {
     "name": "stderr",
     "output_type": "stream",
     "text": [
      "[nltk_data] Downloading package vader_lexicon to\n",
      "[nltk_data]     /usr/share/nltk_data...\n",
      "[nltk_data]   Package vader_lexicon is already up-to-date!\n"
     ]
    },
    {
     "data": {
      "text/plain": [
       "True"
      ]
     },
     "execution_count": 37,
     "metadata": {},
     "output_type": "execute_result"
    }
   ],
   "source": [
    "from nltk.sentiment.vader import SentimentIntensityAnalyzer\n",
    "nltk.download('vader_lexicon')"
   ]
  },
  {
   "cell_type": "code",
   "execution_count": 38,
   "id": "7a6961cf",
   "metadata": {
    "execution": {
     "iopub.execute_input": "2023-02-07T04:17:26.441663Z",
     "iopub.status.busy": "2023-02-07T04:17:26.441179Z",
     "iopub.status.idle": "2023-02-07T04:17:26.462778Z",
     "shell.execute_reply": "2023-02-07T04:17:26.461225Z"
    },
    "papermill": {
     "duration": 0.045294,
     "end_time": "2023-02-07T04:17:26.465453",
     "exception": false,
     "start_time": "2023-02-07T04:17:26.420159",
     "status": "completed"
    },
    "tags": []
   },
   "outputs": [
    {
     "data": {
      "text/plain": [
       "{'neg': 0.677, 'neu': 0.323, 'pos': 0.0, 'compound': -0.2732}"
      ]
     },
     "execution_count": 38,
     "metadata": {},
     "output_type": "execute_result"
    }
   ],
   "source": [
    "sid = SentimentIntensityAnalyzer()\n",
    "sid.polarity_scores(data.Tidy_Tweets[3])"
   ]
  },
  {
   "cell_type": "code",
   "execution_count": 39,
   "id": "f7ce1635",
   "metadata": {
    "execution": {
     "iopub.execute_input": "2023-02-07T04:17:26.506328Z",
     "iopub.status.busy": "2023-02-07T04:17:26.505881Z",
     "iopub.status.idle": "2023-02-07T04:17:26.737559Z",
     "shell.execute_reply": "2023-02-07T04:17:26.736398Z"
    },
    "papermill": {
     "duration": 0.255728,
     "end_time": "2023-02-07T04:17:26.740658",
     "exception": false,
     "start_time": "2023-02-07T04:17:26.484930",
     "status": "completed"
    },
    "tags": []
   },
   "outputs": [
    {
     "data": {
      "text/html": [
       "<div>\n",
       "<style scoped>\n",
       "    .dataframe tbody tr th:only-of-type {\n",
       "        vertical-align: middle;\n",
       "    }\n",
       "\n",
       "    .dataframe tbody tr th {\n",
       "        vertical-align: top;\n",
       "    }\n",
       "\n",
       "    .dataframe thead th {\n",
       "        text-align: right;\n",
       "    }\n",
       "</style>\n",
       "<table border=\"1\" class=\"dataframe\">\n",
       "  <thead>\n",
       "    <tr style=\"text-align: right;\">\n",
       "      <th></th>\n",
       "      <th>Tidy_Tweets</th>\n",
       "      <th>scores</th>\n",
       "      <th>compound</th>\n",
       "      <th>sentiment</th>\n",
       "    </tr>\n",
       "  </thead>\n",
       "  <tbody>\n",
       "    <tr>\n",
       "      <th>0</th>\n",
       "      <td>alien</td>\n",
       "      <td>{'neg': 0.0, 'neu': 1.0, 'pos': 0.0, 'compound...</td>\n",
       "      <td>0.0000</td>\n",
       "      <td>Neutral</td>\n",
       "    </tr>\n",
       "    <tr>\n",
       "      <th>1</th>\n",
       "      <td>ray tracing cyberpunk hdr nextlevel tried</td>\n",
       "      <td>{'neg': 0.0, 'neu': 1.0, 'pos': 0.0, 'compound...</td>\n",
       "      <td>0.0000</td>\n",
       "      <td>Neutral</td>\n",
       "    </tr>\n",
       "    <tr>\n",
       "      <th>2</th>\n",
       "      <td>great interview</td>\n",
       "      <td>{'neg': 0.0, 'neu': 0.196, 'pos': 0.804, 'comp...</td>\n",
       "      <td>0.6249</td>\n",
       "      <td>Positive</td>\n",
       "    </tr>\n",
       "    <tr>\n",
       "      <th>3</th>\n",
       "      <td>doge underestimated</td>\n",
       "      <td>{'neg': 0.677, 'neu': 0.323, 'pos': 0.0, 'comp...</td>\n",
       "      <td>-0.2732</td>\n",
       "      <td>Negative</td>\n",
       "    </tr>\n",
       "    <tr>\n",
       "      <th>4</th>\n",
       "      <td>congratulations tesla china amazing execution ...</td>\n",
       "      <td>{'neg': 0.0, 'neu': 0.476, 'pos': 0.524, 'comp...</td>\n",
       "      <td>0.8271</td>\n",
       "      <td>Positive</td>\n",
       "    </tr>\n",
       "    <tr>\n",
       "      <th>5</th>\n",
       "      <td>happy new year ox</td>\n",
       "      <td>{'neg': 0.0, 'neu': 0.448, 'pos': 0.552, 'comp...</td>\n",
       "      <td>0.5719</td>\n",
       "      <td>Positive</td>\n",
       "    </tr>\n",
       "    <tr>\n",
       "      <th>6</th>\n",
       "      <td>frodo underdoge thought would fail</td>\n",
       "      <td>{'neg': 0.467, 'neu': 0.533, 'pos': 0.0, 'comp...</td>\n",
       "      <td>-0.5423</td>\n",
       "      <td>Negative</td>\n",
       "    </tr>\n",
       "    <tr>\n",
       "      <th>7</th>\n",
       "      <td>haha thanks</td>\n",
       "      <td>{'neg': 0.0, 'neu': 0.0, 'pos': 1.0, 'compound...</td>\n",
       "      <td>0.7096</td>\n",
       "      <td>Positive</td>\n",
       "    </tr>\n",
       "    <tr>\n",
       "      <th>8</th>\n",
       "      <td>indeed tweets definitely represent realworld t...</td>\n",
       "      <td>{'neg': 0.0, 'neu': 0.69, 'pos': 0.31, 'compou...</td>\n",
       "      <td>0.4019</td>\n",
       "      <td>Positive</td>\n",
       "    </tr>\n",
       "    <tr>\n",
       "      <th>9</th>\n",
       "      <td>entertaining outcome likely</td>\n",
       "      <td>{'neg': 0.0, 'neu': 0.408, 'pos': 0.592, 'comp...</td>\n",
       "      <td>0.4404</td>\n",
       "      <td>Positive</td>\n",
       "    </tr>\n",
       "  </tbody>\n",
       "</table>\n",
       "</div>"
      ],
      "text/plain": [
       "                                         Tidy_Tweets  \\\n",
       "0                                              alien   \n",
       "1          ray tracing cyberpunk hdr nextlevel tried   \n",
       "2                                    great interview   \n",
       "3                                doge underestimated   \n",
       "4  congratulations tesla china amazing execution ...   \n",
       "5                                  happy new year ox   \n",
       "6                 frodo underdoge thought would fail   \n",
       "7                                        haha thanks   \n",
       "8  indeed tweets definitely represent realworld t...   \n",
       "9                        entertaining outcome likely   \n",
       "\n",
       "                                              scores  compound sentiment  \n",
       "0  {'neg': 0.0, 'neu': 1.0, 'pos': 0.0, 'compound...    0.0000   Neutral  \n",
       "1  {'neg': 0.0, 'neu': 1.0, 'pos': 0.0, 'compound...    0.0000   Neutral  \n",
       "2  {'neg': 0.0, 'neu': 0.196, 'pos': 0.804, 'comp...    0.6249  Positive  \n",
       "3  {'neg': 0.677, 'neu': 0.323, 'pos': 0.0, 'comp...   -0.2732  Negative  \n",
       "4  {'neg': 0.0, 'neu': 0.476, 'pos': 0.524, 'comp...    0.8271  Positive  \n",
       "5  {'neg': 0.0, 'neu': 0.448, 'pos': 0.552, 'comp...    0.5719  Positive  \n",
       "6  {'neg': 0.467, 'neu': 0.533, 'pos': 0.0, 'comp...   -0.5423  Negative  \n",
       "7  {'neg': 0.0, 'neu': 0.0, 'pos': 1.0, 'compound...    0.7096  Positive  \n",
       "8  {'neg': 0.0, 'neu': 0.69, 'pos': 0.31, 'compou...    0.4019  Positive  \n",
       "9  {'neg': 0.0, 'neu': 0.408, 'pos': 0.592, 'comp...    0.4404  Positive  "
      ]
     },
     "execution_count": 39,
     "metadata": {},
     "output_type": "execute_result"
    }
   ],
   "source": [
    "df_score=pd.DataFrame()\n",
    "df_score['Tidy_Tweets'] = data.Tidy_Tweets\n",
    "df_score['scores'] = data['Tidy_Tweets'].apply(lambda review: sid.polarity_scores(review))\n",
    "df_score['compound']  = df_score['scores'].apply(lambda scores: scores['compound'])\n",
    "df_score['sentiment'] = df_score['compound'].apply(lambda c: 'Positive' if c >=0.05 else ('Negative' if c<=-0.05  else 'Neutral'))\n",
    "df_score.head(10)"
   ]
  },
  {
   "cell_type": "code",
   "execution_count": 40,
   "id": "487aee4b",
   "metadata": {
    "execution": {
     "iopub.execute_input": "2023-02-07T04:17:26.782733Z",
     "iopub.status.busy": "2023-02-07T04:17:26.782250Z",
     "iopub.status.idle": "2023-02-07T04:17:26.983367Z",
     "shell.execute_reply": "2023-02-07T04:17:26.982120Z"
    },
    "papermill": {
     "duration": 0.225894,
     "end_time": "2023-02-07T04:17:26.986172",
     "exception": false,
     "start_time": "2023-02-07T04:17:26.760278",
     "status": "completed"
    },
    "tags": []
   },
   "outputs": [
    {
     "data": {
      "application/javascript": [
       "\n",
       "        if (window._pyforest_update_imports_cell) { window._pyforest_update_imports_cell('import seaborn as sns\\nimport matplotlib.pyplot as plt'); }\n",
       "    "
      ],
      "text/plain": [
       "<IPython.core.display.Javascript object>"
      ]
     },
     "metadata": {},
     "output_type": "display_data"
    },
    {
     "data": {
      "application/javascript": [
       "\n",
       "        if (window._pyforest_update_imports_cell) { window._pyforest_update_imports_cell('import seaborn as sns\\nimport matplotlib.pyplot as plt'); }\n",
       "    "
      ],
      "text/plain": [
       "<IPython.core.display.Javascript object>"
      ]
     },
     "metadata": {},
     "output_type": "display_data"
    },
    {
     "data": {
      "text/plain": [
       "<AxesSubplot:xlabel='sentiment', ylabel='count'>"
      ]
     },
     "execution_count": 40,
     "metadata": {},
     "output_type": "execute_result"
    },
    {
     "data": {
      "image/png": "[encoded data removed]",
      "text/plain": [
       "<Figure size 864x432 with 1 Axes>"
      ]
     },
     "metadata": {
      "needs_background": "light"
     },
     "output_type": "display_data"
    }
   ],
   "source": [
    "plt.figure(figsize=(12,6))\n",
    "sns.countplot(x='sentiment',data=df_score)"
   ]
  },
  {
   "cell_type": "code",
   "execution_count": 41,
   "id": "eaff7504",
   "metadata": {
    "execution": {
     "iopub.execute_input": "2023-02-07T04:17:27.028375Z",
     "iopub.status.busy": "2023-02-07T04:17:27.027844Z",
     "iopub.status.idle": "2023-02-07T04:17:27.036593Z",
     "shell.execute_reply": "2023-02-07T04:17:27.035418Z"
    },
    "papermill": {
     "duration": 0.033149,
     "end_time": "2023-02-07T04:17:27.039263",
     "exception": false,
     "start_time": "2023-02-07T04:17:27.006114",
     "status": "completed"
    },
    "tags": []
   },
   "outputs": [],
   "source": [
    "#Pre-Prcoessing and Bag of Word Vectorization using Count Vectorizer\n",
    "from sklearn.feature_extraction.text import CountVectorizer\n",
    "from nltk.tokenize import RegexpTokenizer\n",
    "\n",
    "from sklearn.model_selection import train_test_split\n",
    "from sklearn.naive_bayes import MultinomialNB\n",
    "from sklearn import metrics"
   ]
  },
  {
   "cell_type": "code",
   "execution_count": 42,
   "id": "2ae5405a",
   "metadata": {
    "execution": {
     "iopub.execute_input": "2023-02-07T04:17:27.082427Z",
     "iopub.status.busy": "2023-02-07T04:17:27.081894Z",
     "iopub.status.idle": "2023-02-07T04:17:27.115942Z",
     "shell.execute_reply": "2023-02-07T04:17:27.114967Z"
    },
    "papermill": {
     "duration": 0.058776,
     "end_time": "2023-02-07T04:17:27.119038",
     "exception": false,
     "start_time": "2023-02-07T04:17:27.060262",
     "status": "completed"
    },
    "tags": []
   },
   "outputs": [],
   "source": [
    "token = RegexpTokenizer(r'[a-zA-Z0-9]+')\n",
    "cv = CountVectorizer(stop_words='english',ngram_range = (1,1),tokenizer = token.tokenize)\n",
    "text_counts = cv.fit_transform(df_score['Tidy_Tweets'])\n",
    "\n",
    "X_train, X_test, Y_train, Y_test = train_test_split(text_counts, df_score['sentiment'], test_size=0.25, random_state=7)"
   ]
  },
  {
   "cell_type": "code",
   "execution_count": 43,
   "id": "f237b2f9",
   "metadata": {
    "execution": {
     "iopub.execute_input": "2023-02-07T04:17:27.162993Z",
     "iopub.status.busy": "2023-02-07T04:17:27.162473Z",
     "iopub.status.idle": "2023-02-07T04:17:27.178983Z",
     "shell.execute_reply": "2023-02-07T04:17:27.177177Z"
    },
    "papermill": {
     "duration": 0.042382,
     "end_time": "2023-02-07T04:17:27.181942",
     "exception": false,
     "start_time": "2023-02-07T04:17:27.139560",
     "status": "completed"
    },
    "tags": []
   },
   "outputs": [
    {
     "name": "stdout",
     "output_type": "stream",
     "text": [
      "Accuracuy Score:  75.35070140280561\n"
     ]
    }
   ],
   "source": [
    "MNB = MultinomialNB()\n",
    "MNB.fit(X_train, Y_train)\n",
    "\n",
    "predicted = MNB.predict(X_test)\n",
    "accuracy_score = metrics.accuracy_score(predicted, Y_test)\n",
    "print(\"Accuracuy Score: \",accuracy_score*100)"
   ]
  },
  {
   "cell_type": "code",
   "execution_count": 44,
   "id": "48ec5eae",
   "metadata": {
    "execution": {
     "iopub.execute_input": "2023-02-07T04:17:27.226326Z",
     "iopub.status.busy": "2023-02-07T04:17:27.224968Z",
     "iopub.status.idle": "2023-02-07T04:17:27.230636Z",
     "shell.execute_reply": "2023-02-07T04:17:27.229381Z"
    },
    "papermill": {
     "duration": 0.030921,
     "end_time": "2023-02-07T04:17:27.233226",
     "exception": false,
     "start_time": "2023-02-07T04:17:27.202305",
     "status": "completed"
    },
    "tags": []
   },
   "outputs": [],
   "source": [
    "## thankyou "
   ]
  },
  {
   "cell_type": "code",
   "execution_count": null,
   "id": "fb0eb1e0",
   "metadata": {
    "papermill": {
     "duration": 0.019488,
     "end_time": "2023-02-07T04:17:27.273024",
     "exception": false,
     "start_time": "2023-02-07T04:17:27.253536",
     "status": "completed"
    },
    "tags": []
   },
   "outputs": [],
   "source": []
  }
 ],
 "metadata": {
  "kernelspec": {
   "display_name": "Python 3 (ipykernel)",
   "language": "python",
   "name": "python3"
  },
  "language_info": {
   "codemirror_mode": {
    "name": "ipython",
    "version": 3
   },
   "file_extension": ".py",
   "mimetype": "text/x-python",
   "name": "python",
   "nbconvert_exporter": "python",
   "pygments_lexer": "ipython3",
   "version": "3.10.9"
  },
  "papermill": {
   "default_parameters": {},
   "duration": 38.03124,
   "end_time": "2023-02-07T04:17:28.624324",
   "environment_variables": {},
   "exception": null,
   "input_path": "__notebook__.ipynb",
   "output_path": "__notebook__.ipynb",
   "parameters": {},
   "start_time": "2023-02-07T04:16:50.593084",
   "version": "2.3.4"
  }
 },
 "nbformat": 4,
 "nbformat_minor": 5
}
