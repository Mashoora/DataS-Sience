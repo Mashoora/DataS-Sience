{
 "cells": [
  {
   "cell_type": "code",
   "execution_count": 1,
   "id": "072146b5",
   "metadata": {},
   "outputs": [],
   "source": [
    "import requests\n",
    "from bs4 import BeautifulSoup\n",
    "from textblob import TextBlob\n",
    "import matplotlib.pyplot as plt"
   ]
  },
  {
   "cell_type": "code",
   "execution_count": 2,
   "id": "4bd3c04c",
   "metadata": {},
   "outputs": [],
   "source": [
    "url = \"https://www.amazon.in/Set-Wet-Hair-Cool-100ml/product-reviews/B00CBRIRYG\""
   ]
  },
  {
   "cell_type": "code",
   "execution_count": 3,
   "id": "4bfb7a34",
   "metadata": {},
   "outputs": [],
   "source": [
    "response = requests.get(url)"
   ]
  },
  {
   "cell_type": "code",
   "execution_count": 4,
   "id": "f82a9729",
   "metadata": {},
   "outputs": [],
   "source": [
    "# Create a BeautifulSoup object to parse the HTML content\n",
    "soup = BeautifulSoup(response.content, 'html.parser')"
   ]
  },
  {
   "cell_type": "code",
   "execution_count": 6,
   "id": "001ab9eb",
   "metadata": {},
   "outputs": [],
   "source": [
    "# Find the HTML elements containing the reviews or feedback\n",
    "reviews = soup.find_all('div', class_='review')"
   ]
  },
  {
   "cell_type": "code",
   "execution_count": 7,
   "id": "df979153",
   "metadata": {},
   "outputs": [],
   "source": [
    "# Extract the text from the reviews\n",
    "review_texts = [review.get_text() for review in reviews]"
   ]
  },
  {
   "cell_type": "code",
   "execution_count": 8,
   "id": "63d5f87b",
   "metadata": {},
   "outputs": [],
   "source": [
    "# Perform emotion mining on the extracted reviews\n",
    "sentiments = []\n",
    "for review_text in review_texts:\n",
    "    analysis = TextBlob(review_text)\n",
    "    sentiment = 'positive' if analysis.sentiment.polarity >= 0 else 'negative'\n",
    "    sentiments.append(sentiment)"
   ]
  },
  {
   "cell_type": "code",
   "execution_count": 9,
   "id": "93bd152c",
   "metadata": {},
   "outputs": [],
   "source": [
    "# Count the number of positive and negative sentiments\n",
    "sentiment_counts = {'positive': sentiments.count('positive'), 'negative': sentiments.count('negative')}"
   ]
  },
  {
   "cell_type": "code",
   "execution_count": 10,
   "id": "1fda89a4",
   "metadata": {},
   "outputs": [
    {
     "data": {
      "image/png": "[encoded data removed]",
      "text/plain": [
       "<Figure size 640x480 with 1 Axes>"
      ]
     },
     "metadata": {},
     "output_type": "display_data"
    }
   ],
   "source": [
    "# Plot the sentiments\n",
    "plt.bar(sentiment_counts.keys(), sentiment_counts.values())\n",
    "plt.xlabel('Sentiment')\n",
    "plt.ylabel('Count')\n",
    "plt.title('Sentiment Analysis')\n",
    "plt.show()"
   ]
  },
  {
   "cell_type": "code",
   "execution_count": null,
   "id": "b935f4c1",
   "metadata": {},
   "outputs": [],
   "source": []
  }
 ],
 "metadata": {
  "kernelspec": {
   "display_name": "Python 3 (ipykernel)",
   "language": "python",
   "name": "python3"
  },
  "language_info": {
   "codemirror_mode": {
    "name": "ipython",
    "version": 3
   },
   "file_extension": ".py",
   "mimetype": "text/x-python",
   "name": "python",
   "nbconvert_exporter": "python",
   "pygments_lexer": "ipython3",
   "version": "3.10.9"
  }
 },
 "nbformat": 4,
 "nbformat_minor": 5
}
